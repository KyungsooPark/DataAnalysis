{
  "nbformat": 4,
  "nbformat_minor": 0,
  "metadata": {
    "colab": {
      "name": "05_유튜브 랭킹.ipynb",
      "provenance": [],
      "collapsed_sections": []
    },
    "kernelspec": {
      "name": "python3",
      "display_name": "Python 3"
    },
    "language_info": {
      "name": "python"
    }
  },
  "cells": [
    {
      "cell_type": "markdown",
      "metadata": {
        "id": "GeLPMySmAzhz"
      },
      "source": [
        "# 유튜브 랭킹 데이터 수집하기"
      ]
    },
    {
      "cell_type": "code",
      "metadata": {
        "id": "q8ARIXIbjTzy",
        "colab": {
          "base_uri": "https://localhost:8080/"
        },
        "outputId": "b9547d55-4c1e-410e-91af-f5d46db9eb29"
      },
      "source": [
        "!apt-get update > /dev/null\n",
        "!pip install selenium > /dev/null\n",
        "!apt install chromium-chromedriver > /dev/null"
      ],
      "execution_count": null,
      "outputs": [
        {
          "output_type": "stream",
          "text": [
            "\n",
            "WARNING: apt does not have a stable CLI interface. Use with caution in scripts.\n",
            "\n"
          ],
          "name": "stdout"
        }
      ]
    },
    {
      "cell_type": "code",
      "metadata": {
        "id": "9w6cZ0TtBrAE"
      },
      "source": [
        "from selenium import webdriver\n",
        "from bs4 import BeautifulSoup\n",
        "import time\n",
        "import pandas as pd"
      ],
      "execution_count": null,
      "outputs": []
    },
    {
      "cell_type": "code",
      "metadata": {
        "id": "_fB4WNGNCZC8"
      },
      "source": [
        "options = webdriver.ChromeOptions()\n",
        "options.add_argument('--headless')   # 화면없이 실행\n",
        "options.add_argument('--no-sandbox')\n",
        "options.add_argument(\"--single-process\")\n",
        "options.add_argument(\"--disable-dev-shm-usage\")\n",
        "driver = webdriver.Chrome('chromedriver', options=options)"
      ],
      "execution_count": null,
      "outputs": []
    },
    {
      "cell_type": "code",
      "metadata": {
        "id": "5DDha96kCvN6"
      },
      "source": [
        "url = 'https://youtube-rank.com/board/bbs/board.php?bo_table=youtube&page=1'\n",
        "driver.get(url)\n",
        "# time.sleep(2)"
      ],
      "execution_count": null,
      "outputs": []
    },
    {
      "cell_type": "code",
      "metadata": {
        "colab": {
          "base_uri": "https://localhost:8080/"
        },
        "id": "peVGQ-nqC8o9",
        "outputId": "12a80c5e-be72-4ae1-9f99-a4769e7e87e2"
      },
      "source": [
        "trs = driver.find_elements_by_css_selector('.aos-init')\n",
        "len(trs)"
      ],
      "execution_count": null,
      "outputs": [
        {
          "output_type": "execute_result",
          "data": {
            "text/plain": [
              "100"
            ]
          },
          "metadata": {
            "tags": []
          },
          "execution_count": 88
        }
      ]
    },
    {
      "cell_type": "code",
      "metadata": {
        "id": "FZvuMJ_GEq-W"
      },
      "source": [
        "html = driver.page_source\n",
        "soup = BeautifulSoup(html, 'html.parser')"
      ],
      "execution_count": null,
      "outputs": []
    },
    {
      "cell_type": "code",
      "metadata": {
        "colab": {
          "base_uri": "https://localhost:8080/"
        },
        "id": "IA4oVU4HEOVD",
        "outputId": "384981fe-d000-4cc7-c497-8dd61121bc41"
      },
      "source": [
        "# soup.select('form > table > tbody > tr')\n",
        "channel_list = soup.select('.aos-init')\n",
        "len(channel_list)"
      ],
      "execution_count": null,
      "outputs": [
        {
          "output_type": "execute_result",
          "data": {
            "text/plain": [
              "100"
            ]
          },
          "metadata": {
            "tags": []
          },
          "execution_count": 90
        }
      ]
    },
    {
      "cell_type": "code",
      "metadata": {
        "colab": {
          "base_uri": "https://localhost:8080/",
          "height": 36
        },
        "id": "_rpsaUNNFROJ",
        "outputId": "da42a3ba-1667-4268-d0a0-f1c1dcab7f98"
      },
      "source": [
        "channel = channel_list[0]\n",
        "category = channel.select_one('p.category').get_text().strip(' \\n[]')\n",
        "category"
      ],
      "execution_count": null,
      "outputs": [
        {
          "output_type": "execute_result",
          "data": {
            "application/vnd.google.colaboratory.intrinsic+json": {
              "type": "string"
            },
            "text/plain": [
              "'음악/댄스/가수'"
            ]
          },
          "metadata": {
            "tags": []
          },
          "execution_count": 91
        }
      ]
    },
    {
      "cell_type": "code",
      "metadata": {
        "colab": {
          "base_uri": "https://localhost:8080/",
          "height": 36
        },
        "id": "CYPcSdBdFn3G",
        "outputId": "9c0753f4-4d3d-46f6-e822-97e09bb384d2"
      },
      "source": [
        "name = channel.select_one('.subject a').text.strip()\n",
        "name"
      ],
      "execution_count": null,
      "outputs": [
        {
          "output_type": "execute_result",
          "data": {
            "application/vnd.google.colaboratory.intrinsic+json": {
              "type": "string"
            },
            "text/plain": [
              "'BLACKPINK'"
            ]
          },
          "metadata": {
            "tags": []
          },
          "execution_count": 92
        }
      ]
    },
    {
      "cell_type": "code",
      "metadata": {
        "colab": {
          "base_uri": "https://localhost:8080/"
        },
        "id": "FAVMaR2hF1Me",
        "outputId": "a5393ba5-520f-4223-87d7-75315cf261a0"
      },
      "source": [
        "subscriber = channel.select_one('.subscriber_cnt').text\n",
        "view = channel.select_one('.view_cnt').text\n",
        "video = channel.select_one('.video_cnt').text[:-1]\n",
        "subscriber, view, video"
      ],
      "execution_count": null,
      "outputs": [
        {
          "output_type": "execute_result",
          "data": {
            "text/plain": [
              "('6400만', '190억0381만', '371')"
            ]
          },
          "metadata": {
            "tags": []
          },
          "execution_count": 93
        }
      ]
    },
    {
      "cell_type": "code",
      "metadata": {
        "id": "6l445beLGKQh"
      },
      "source": [
        "channels = []\n",
        "for channel in channel_list:\n",
        "  category = channel.select_one('p.category').get_text().strip(' \\n[]')\n",
        "  subscriber = channel.select_one('.subscriber_cnt').text\n",
        "  name = channel.select_one('.subject a').text.strip()\n",
        "  view = channel.select_one('.view_cnt').text\n",
        "  video = channel.select_one('.video_cnt').text[:-1]\n",
        "  channels.append([category, subscriber, name, view, video])\n"
      ],
      "execution_count": null,
      "outputs": []
    },
    {
      "cell_type": "code",
      "metadata": {
        "colab": {
          "base_uri": "https://localhost:8080/",
          "height": 422
        },
        "id": "EAHBu-UvIURR",
        "outputId": "3e06bd45-df69-460d-8b6b-c765f6035e63"
      },
      "source": [
        "df = pd.DataFrame(channels, columns=['카테고리', '구독자수','이름', '조회수', '비디오수'])\n",
        "df"
      ],
      "execution_count": null,
      "outputs": [
        {
          "output_type": "execute_result",
          "data": {
            "text/html": [
              "<div>\n",
              "<style scoped>\n",
              "    .dataframe tbody tr th:only-of-type {\n",
              "        vertical-align: middle;\n",
              "    }\n",
              "\n",
              "    .dataframe tbody tr th {\n",
              "        vertical-align: top;\n",
              "    }\n",
              "\n",
              "    .dataframe thead th {\n",
              "        text-align: right;\n",
              "    }\n",
              "</style>\n",
              "<table border=\"1\" class=\"dataframe\">\n",
              "  <thead>\n",
              "    <tr style=\"text-align: right;\">\n",
              "      <th></th>\n",
              "      <th>카테고리</th>\n",
              "      <th>구독자수</th>\n",
              "      <th>이름</th>\n",
              "      <th>조회수</th>\n",
              "      <th>비디오수</th>\n",
              "    </tr>\n",
              "  </thead>\n",
              "  <tbody>\n",
              "    <tr>\n",
              "      <th>0</th>\n",
              "      <td>음악/댄스/가수</td>\n",
              "      <td>6400만</td>\n",
              "      <td>BLACKPINK</td>\n",
              "      <td>190억0381만</td>\n",
              "      <td>371</td>\n",
              "    </tr>\n",
              "    <tr>\n",
              "      <th>1</th>\n",
              "      <td>음악/댄스/가수</td>\n",
              "      <td>6030만</td>\n",
              "      <td>HYBE LABELS</td>\n",
              "      <td>187억1305만</td>\n",
              "      <td>654</td>\n",
              "    </tr>\n",
              "    <tr>\n",
              "      <th>2</th>\n",
              "      <td>음악/댄스/가수</td>\n",
              "      <td>5640만</td>\n",
              "      <td>BANGTANTV</td>\n",
              "      <td>121억9496만</td>\n",
              "      <td>1,579</td>\n",
              "    </tr>\n",
              "    <tr>\n",
              "      <th>3</th>\n",
              "      <td>음악/댄스/가수</td>\n",
              "      <td>2850만</td>\n",
              "      <td>SMTOWN</td>\n",
              "      <td>218억7092만</td>\n",
              "      <td>3,729</td>\n",
              "    </tr>\n",
              "    <tr>\n",
              "      <th>4</th>\n",
              "      <td>키즈/어린이</td>\n",
              "      <td>2650만</td>\n",
              "      <td>Boram Tube Vlog [보람튜브 브이로그]</td>\n",
              "      <td>110억5288만</td>\n",
              "      <td>223</td>\n",
              "    </tr>\n",
              "    <tr>\n",
              "      <th>...</th>\n",
              "      <td>...</td>\n",
              "      <td>...</td>\n",
              "      <td>...</td>\n",
              "      <td>...</td>\n",
              "      <td>...</td>\n",
              "    </tr>\n",
              "    <tr>\n",
              "      <th>95</th>\n",
              "      <td>음식/요리/레시피</td>\n",
              "      <td>408만</td>\n",
              "      <td>까니짱 [ G-NI ]</td>\n",
              "      <td>10억3471만</td>\n",
              "      <td>482</td>\n",
              "    </tr>\n",
              "    <tr>\n",
              "      <th>96</th>\n",
              "      <td>키즈/어린이</td>\n",
              "      <td>408만</td>\n",
              "      <td>로미유 스토리[Romiyu Story]</td>\n",
              "      <td>10억6557만</td>\n",
              "      <td>433</td>\n",
              "    </tr>\n",
              "    <tr>\n",
              "      <th>97</th>\n",
              "      <td>음악/댄스/가수</td>\n",
              "      <td>386만</td>\n",
              "      <td>NCT DREAM</td>\n",
              "      <td>3억7422만</td>\n",
              "      <td>228</td>\n",
              "    </tr>\n",
              "    <tr>\n",
              "      <th>98</th>\n",
              "      <td>BJ/인물/연예인</td>\n",
              "      <td>381만</td>\n",
              "      <td>허팝Heopop</td>\n",
              "      <td>31억3892만</td>\n",
              "      <td>1,847</td>\n",
              "    </tr>\n",
              "    <tr>\n",
              "      <th>99</th>\n",
              "      <td>취미/라이프</td>\n",
              "      <td>380만</td>\n",
              "      <td>JaeYeol ASMR 재열</td>\n",
              "      <td>10억1154만</td>\n",
              "      <td>970</td>\n",
              "    </tr>\n",
              "  </tbody>\n",
              "</table>\n",
              "<p>100 rows × 5 columns</p>\n",
              "</div>"
            ],
            "text/plain": [
              "         카테고리   구독자수                           이름        조회수   비디오수\n",
              "0    음악/댄스/가수  6400만                    BLACKPINK  190억0381만    371\n",
              "1    음악/댄스/가수  6030만                  HYBE LABELS  187억1305만    654\n",
              "2    음악/댄스/가수  5640만                    BANGTANTV  121억9496만  1,579\n",
              "3    음악/댄스/가수  2850만                       SMTOWN  218억7092만  3,729\n",
              "4      키즈/어린이  2650만  Boram Tube Vlog [보람튜브 브이로그]  110억5288만    223\n",
              "..        ...    ...                          ...        ...    ...\n",
              "95  음식/요리/레시피   408만                 까니짱 [ G-NI ]   10억3471만    482\n",
              "96     키즈/어린이   408만        로미유 스토리[Romiyu Story]   10억6557만    433\n",
              "97   음악/댄스/가수   386만                    NCT DREAM    3억7422만    228\n",
              "98  BJ/인물/연예인   381만                     허팝Heopop   31억3892만  1,847\n",
              "99     취미/라이프   380만              JaeYeol ASMR 재열   10억1154만    970\n",
              "\n",
              "[100 rows x 5 columns]"
            ]
          },
          "metadata": {
            "tags": []
          },
          "execution_count": 95
        }
      ]
    },
    {
      "cell_type": "markdown",
      "metadata": {
        "id": "djXcCXG_vf1Z"
      },
      "source": [
        "##만과 억을 숫자로 바꿔주는 함수"
      ]
    },
    {
      "cell_type": "code",
      "metadata": {
        "id": "SAeY6S2bJB4L"
      },
      "source": [
        "def convert_unit(s):\n",
        "  s = s.replace('억', '').replace('개','').replace(',','')\n",
        " # s = ''.join(s.split('억'))\n",
        "  s = s.replace('만', '0000')\n",
        "  return s"
      ],
      "execution_count": null,
      "outputs": []
    },
    {
      "cell_type": "code",
      "metadata": {
        "colab": {
          "base_uri": "https://localhost:8080/",
          "height": 36
        },
        "id": "Tu0w5te6Iw6z",
        "outputId": "ee86f88d-50b4-4d39-a5eb-3b92a07413fd"
      },
      "source": [
        "convert_unit('10억5000만')"
      ],
      "execution_count": null,
      "outputs": [
        {
          "output_type": "execute_result",
          "data": {
            "application/vnd.google.colaboratory.intrinsic+json": {
              "type": "string"
            },
            "text/plain": [
              "'1050000000'"
            ]
          },
          "metadata": {
            "tags": []
          },
          "execution_count": 97
        }
      ]
    },
    {
      "cell_type": "markdown",
      "metadata": {
        "id": "sfdUaNqUc_4Q"
      },
      "source": [
        "## 두 번째 페이지"
      ]
    },
    {
      "cell_type": "code",
      "metadata": {
        "id": "-3Au8uAocaqj"
      },
      "source": [
        "driver.find_element_by_xpath('//*[@id=\"list-skin\"]/nav/span/a[1]').click()"
      ],
      "execution_count": null,
      "outputs": []
    },
    {
      "cell_type": "code",
      "metadata": {
        "id": "XpME6VBbcxLk"
      },
      "source": [
        "html = driver.page_source\n",
        "soup = BeautifulSoup(html, 'html.parser')"
      ],
      "execution_count": null,
      "outputs": []
    },
    {
      "cell_type": "code",
      "metadata": {
        "colab": {
          "base_uri": "https://localhost:8080/"
        },
        "id": "K3sahTf4c49-",
        "outputId": "cb26ca8f-9a28-4d75-d0f7-4fc75d105ca3"
      },
      "source": [
        "channel_list = soup.select('.aos-init')\n",
        "len(channel_list)"
      ],
      "execution_count": null,
      "outputs": [
        {
          "output_type": "execute_result",
          "data": {
            "text/plain": [
              "100"
            ]
          },
          "metadata": {
            "tags": []
          },
          "execution_count": 100
        }
      ]
    },
    {
      "cell_type": "code",
      "metadata": {
        "id": "MobWe-_udFNY"
      },
      "source": [
        "results = []\n",
        "for channel in channel_list:\n",
        "    category = channel.select_one('p.category').get_text().strip(' \\n[]')\n",
        "    name = channel.select_one('.subject a').text.strip()\n",
        "    subscriber = convert_unit(channel.select_one('.subscriber_cnt').text)\n",
        "    view = convert_unit(channel.select_one('.view_cnt').text)\n",
        "    video = convert_unit(channel.select_one('.video_cnt').text)\n",
        "    results.append([category,name,subscriber,view,video])"
      ],
      "execution_count": null,
      "outputs": []
    },
    {
      "cell_type": "code",
      "metadata": {
        "colab": {
          "base_uri": "https://localhost:8080/",
          "height": 422
        },
        "id": "gmie7rE-et7N",
        "outputId": "e23fb330-edb2-45ba-8bb6-fb390fe5c733"
      },
      "source": [
        "df = pd.DataFrame(results, columns=['카테고리', '구독자수','채널명', '조회수', '비디오수'])\n",
        "df"
      ],
      "execution_count": null,
      "outputs": [
        {
          "output_type": "execute_result",
          "data": {
            "text/html": [
              "<div>\n",
              "<style scoped>\n",
              "    .dataframe tbody tr th:only-of-type {\n",
              "        vertical-align: middle;\n",
              "    }\n",
              "\n",
              "    .dataframe tbody tr th {\n",
              "        vertical-align: top;\n",
              "    }\n",
              "\n",
              "    .dataframe thead th {\n",
              "        text-align: right;\n",
              "    }\n",
              "</style>\n",
              "<table border=\"1\" class=\"dataframe\">\n",
              "  <thead>\n",
              "    <tr style=\"text-align: right;\">\n",
              "      <th></th>\n",
              "      <th>카테고리</th>\n",
              "      <th>구독자수</th>\n",
              "      <th>채널명</th>\n",
              "      <th>조회수</th>\n",
              "      <th>비디오수</th>\n",
              "    </tr>\n",
              "  </thead>\n",
              "  <tbody>\n",
              "    <tr>\n",
              "      <th>0</th>\n",
              "      <td>애완/반려동물</td>\n",
              "      <td>크림히어로즈</td>\n",
              "      <td>3800000</td>\n",
              "      <td>1374770000</td>\n",
              "      <td>940</td>\n",
              "    </tr>\n",
              "    <tr>\n",
              "      <th>1</th>\n",
              "      <td>BJ/인물/연예인</td>\n",
              "      <td>워크맨-Workman</td>\n",
              "      <td>3780000</td>\n",
              "      <td>679370000</td>\n",
              "      <td>141</td>\n",
              "    </tr>\n",
              "    <tr>\n",
              "      <th>2</th>\n",
              "      <td>BJ/인물/연예인</td>\n",
              "      <td>waveya 2011</td>\n",
              "      <td>3730000</td>\n",
              "      <td>1346280000</td>\n",
              "      <td>702</td>\n",
              "    </tr>\n",
              "    <tr>\n",
              "      <th>3</th>\n",
              "      <td>키즈/어린이</td>\n",
              "      <td>Lime Tube[라임튜브]</td>\n",
              "      <td>3730000</td>\n",
              "      <td>2595420000</td>\n",
              "      <td>1723</td>\n",
              "    </tr>\n",
              "    <tr>\n",
              "      <th>4</th>\n",
              "      <td>음악/댄스/가수</td>\n",
              "      <td>WINNER</td>\n",
              "      <td>3730000</td>\n",
              "      <td>1171260000</td>\n",
              "      <td>428</td>\n",
              "    </tr>\n",
              "    <tr>\n",
              "      <th>...</th>\n",
              "      <td>...</td>\n",
              "      <td>...</td>\n",
              "      <td>...</td>\n",
              "      <td>...</td>\n",
              "      <td>...</td>\n",
              "    </tr>\n",
              "    <tr>\n",
              "      <th>95</th>\n",
              "      <td>음식/요리/레시피</td>\n",
              "      <td>푸드킹덤 Food Kingdom</td>\n",
              "      <td>2090000</td>\n",
              "      <td>744530000</td>\n",
              "      <td>797</td>\n",
              "    </tr>\n",
              "    <tr>\n",
              "      <th>96</th>\n",
              "      <td>음악/댄스/가수</td>\n",
              "      <td>4Minute 포미닛(Official YouTube Channel)</td>\n",
              "      <td>2090000</td>\n",
              "      <td>1236000000</td>\n",
              "      <td>82</td>\n",
              "    </tr>\n",
              "    <tr>\n",
              "      <th>97</th>\n",
              "      <td>미분류</td>\n",
              "      <td>김종국 GYM JONG KOOK</td>\n",
              "      <td>2080000</td>\n",
              "      <td>54080000</td>\n",
              "      <td>10</td>\n",
              "    </tr>\n",
              "    <tr>\n",
              "      <th>98</th>\n",
              "      <td>음식/요리/레시피</td>\n",
              "      <td>ZOEY ASMR 조이</td>\n",
              "      <td>2070000</td>\n",
              "      <td>475380000</td>\n",
              "      <td>606</td>\n",
              "    </tr>\n",
              "    <tr>\n",
              "      <th>99</th>\n",
              "      <td>영화/만화/애니</td>\n",
              "      <td>레이디버그TV</td>\n",
              "      <td>2070000</td>\n",
              "      <td>1087450000</td>\n",
              "      <td>325</td>\n",
              "    </tr>\n",
              "  </tbody>\n",
              "</table>\n",
              "<p>100 rows × 5 columns</p>\n",
              "</div>"
            ],
            "text/plain": [
              "         카테고리                                   구독자수      채널명         조회수  비디오수\n",
              "0     애완/반려동물                                 크림히어로즈  3800000  1374770000   940\n",
              "1   BJ/인물/연예인                            워크맨-Workman  3780000   679370000   141\n",
              "2   BJ/인물/연예인                            waveya 2011  3730000  1346280000   702\n",
              "3      키즈/어린이                        Lime Tube[라임튜브]  3730000  2595420000  1723\n",
              "4    음악/댄스/가수                                 WINNER  3730000  1171260000   428\n",
              "..        ...                                    ...      ...         ...   ...\n",
              "95  음식/요리/레시피                      푸드킹덤 Food Kingdom  2090000   744530000   797\n",
              "96   음악/댄스/가수  4Minute 포미닛(Official YouTube Channel)  2090000  1236000000    82\n",
              "97        미분류                      김종국 GYM JONG KOOK  2080000    54080000    10\n",
              "98  음식/요리/레시피                           ZOEY ASMR 조이  2070000   475380000   606\n",
              "99   영화/만화/애니                                레이디버그TV  2070000  1087450000   325\n",
              "\n",
              "[100 rows x 5 columns]"
            ]
          },
          "metadata": {
            "tags": []
          },
          "execution_count": 102
        }
      ]
    },
    {
      "cell_type": "markdown",
      "metadata": {
        "id": "nJ0pOKQsfK77"
      },
      "source": [
        "## page 1에서 10까지 크롤링하기"
      ]
    },
    {
      "cell_type": "code",
      "metadata": {
        "id": "6wTOCt7AfOfe"
      },
      "source": [
        "results = []\n",
        "for page in range(1,11):\n",
        "    url = 'https://youtube-rank.com/board/bbs/board.php?bo_table=youtube&page='+str(page)\n",
        "    driver.get(url)\n",
        "    time.sleep(3)\n",
        "    html = driver.page_source\n",
        "    soup = BeautifulSoup(html, 'html.parser')\n",
        "    channel_list = soup.select('.aos-init')\n",
        "\n",
        "    for channel in channel_list:\n",
        "        category = channel.select_one('p.category').get_text().strip(' \\n[]')\n",
        "        name = channel.select_one('.subject a').text.strip()\n",
        "        subscriber = convert_unit(channel.select_one('.subscriber_cnt').text)\n",
        "        view = convert_unit(channel.select_one('.view_cnt').text)\n",
        "        video = convert_unit(channel.select_one('.video_cnt').text)\n",
        "        results.append([category,name,subscriber,view,video])"
      ],
      "execution_count": null,
      "outputs": []
    },
    {
      "cell_type": "code",
      "metadata": {
        "colab": {
          "base_uri": "https://localhost:8080/",
          "height": 422
        },
        "id": "L3r3M683gBIC",
        "outputId": "b8d2d01c-c101-4640-d11d-39fdfe78f766"
      },
      "source": [
        "df = pd.DataFrame(results, columns=['카테고리', '구독자수','채널명', '조회수', '비디오수'])\n",
        "df"
      ],
      "execution_count": null,
      "outputs": [
        {
          "output_type": "execute_result",
          "data": {
            "text/html": [
              "<div>\n",
              "<style scoped>\n",
              "    .dataframe tbody tr th:only-of-type {\n",
              "        vertical-align: middle;\n",
              "    }\n",
              "\n",
              "    .dataframe tbody tr th {\n",
              "        vertical-align: top;\n",
              "    }\n",
              "\n",
              "    .dataframe thead th {\n",
              "        text-align: right;\n",
              "    }\n",
              "</style>\n",
              "<table border=\"1\" class=\"dataframe\">\n",
              "  <thead>\n",
              "    <tr style=\"text-align: right;\">\n",
              "      <th></th>\n",
              "      <th>카테고리</th>\n",
              "      <th>구독자수</th>\n",
              "      <th>채널명</th>\n",
              "      <th>조회수</th>\n",
              "      <th>비디오수</th>\n",
              "    </tr>\n",
              "  </thead>\n",
              "  <tbody>\n",
              "    <tr>\n",
              "      <th>0</th>\n",
              "      <td>음악/댄스/가수</td>\n",
              "      <td>BLACKPINK</td>\n",
              "      <td>64000000</td>\n",
              "      <td>19003810000</td>\n",
              "      <td>371</td>\n",
              "    </tr>\n",
              "    <tr>\n",
              "      <th>1</th>\n",
              "      <td>음악/댄스/가수</td>\n",
              "      <td>HYBE LABELS</td>\n",
              "      <td>60300000</td>\n",
              "      <td>18713050000</td>\n",
              "      <td>654</td>\n",
              "    </tr>\n",
              "    <tr>\n",
              "      <th>2</th>\n",
              "      <td>음악/댄스/가수</td>\n",
              "      <td>BANGTANTV</td>\n",
              "      <td>56400000</td>\n",
              "      <td>12194960000</td>\n",
              "      <td>1579</td>\n",
              "    </tr>\n",
              "    <tr>\n",
              "      <th>3</th>\n",
              "      <td>음악/댄스/가수</td>\n",
              "      <td>SMTOWN</td>\n",
              "      <td>28500000</td>\n",
              "      <td>21870920000</td>\n",
              "      <td>3729</td>\n",
              "    </tr>\n",
              "    <tr>\n",
              "      <th>4</th>\n",
              "      <td>키즈/어린이</td>\n",
              "      <td>Boram Tube Vlog [보람튜브 브이로그]</td>\n",
              "      <td>26500000</td>\n",
              "      <td>11052880000</td>\n",
              "      <td>223</td>\n",
              "    </tr>\n",
              "    <tr>\n",
              "      <th>...</th>\n",
              "      <td>...</td>\n",
              "      <td>...</td>\n",
              "      <td>...</td>\n",
              "      <td>...</td>\n",
              "      <td>...</td>\n",
              "    </tr>\n",
              "    <tr>\n",
              "      <th>995</th>\n",
              "      <td>게임</td>\n",
              "      <td>미소</td>\n",
              "      <td>510000</td>\n",
              "      <td>210770000</td>\n",
              "      <td>3084</td>\n",
              "    </tr>\n",
              "    <tr>\n",
              "      <th>996</th>\n",
              "      <td>미분류</td>\n",
              "      <td>밉지않은 관종언니</td>\n",
              "      <td>510000</td>\n",
              "      <td>67740000</td>\n",
              "      <td>170</td>\n",
              "    </tr>\n",
              "    <tr>\n",
              "      <th>997</th>\n",
              "      <td>미분류</td>\n",
              "      <td>복지마블TV [Welfare Marble]</td>\n",
              "      <td>510000</td>\n",
              "      <td>49960000</td>\n",
              "      <td>240</td>\n",
              "    </tr>\n",
              "    <tr>\n",
              "      <th>998</th>\n",
              "      <td>음식/요리/레시피</td>\n",
              "      <td>Muggo</td>\n",
              "      <td>510000</td>\n",
              "      <td>183720000</td>\n",
              "      <td>1388</td>\n",
              "    </tr>\n",
              "    <tr>\n",
              "      <th>999</th>\n",
              "      <td>게임</td>\n",
              "      <td>임선비</td>\n",
              "      <td>510000</td>\n",
              "      <td>234290000</td>\n",
              "      <td>1134</td>\n",
              "    </tr>\n",
              "  </tbody>\n",
              "</table>\n",
              "<p>1000 rows × 5 columns</p>\n",
              "</div>"
            ],
            "text/plain": [
              "          카테고리                         구독자수       채널명          조회수  비디오수\n",
              "0     음악/댄스/가수                    BLACKPINK  64000000  19003810000   371\n",
              "1     음악/댄스/가수                  HYBE LABELS  60300000  18713050000   654\n",
              "2     음악/댄스/가수                    BANGTANTV  56400000  12194960000  1579\n",
              "3     음악/댄스/가수                       SMTOWN  28500000  21870920000  3729\n",
              "4       키즈/어린이  Boram Tube Vlog [보람튜브 브이로그]  26500000  11052880000   223\n",
              "..         ...                          ...       ...          ...   ...\n",
              "995         게임                           미소    510000    210770000  3084\n",
              "996        미분류                    밉지않은 관종언니    510000     67740000   170\n",
              "997        미분류      복지마블TV [Welfare Marble]    510000     49960000   240\n",
              "998  음식/요리/레시피                        Muggo    510000    183720000  1388\n",
              "999         게임                          임선비    510000    234290000  1134\n",
              "\n",
              "[1000 rows x 5 columns]"
            ]
          },
          "metadata": {
            "tags": []
          },
          "execution_count": 77
        }
      ]
    },
    {
      "cell_type": "code",
      "metadata": {
        "id": "vaVxOSZ-gsGI"
      },
      "source": [
        "df.to_csv('유튜브_순위.csv', index=None)"
      ],
      "execution_count": null,
      "outputs": []
    },
    {
      "cell_type": "code",
      "metadata": {
        "id": "vAH4QowQhXQR"
      },
      "source": [
        "driver.close()"
      ],
      "execution_count": null,
      "outputs": []
    },
    {
      "cell_type": "code",
      "metadata": {
        "colab": {
          "base_uri": "https://localhost:8080/"
        },
        "id": "GeDBB3l6lMcV",
        "outputId": "b11c6b36-c223-420f-c7c5-c5dd7016142e"
      },
      "source": [
        "import random\n",
        "i = 10\n",
        " \n",
        "while i < 19:\n",
        "    print(i, end=' ')\n",
        "    i += 2"
      ],
      "execution_count": null,
      "outputs": [
        {
          "output_type": "stream",
          "text": [
            "10 12 14 16 18 "
          ],
          "name": "stdout"
        }
      ]
    },
    {
      "cell_type": "code",
      "metadata": {
        "id": "v2T9gASklb6B"
      },
      "source": [
        ""
      ],
      "execution_count": null,
      "outputs": []
    }
  ]
}