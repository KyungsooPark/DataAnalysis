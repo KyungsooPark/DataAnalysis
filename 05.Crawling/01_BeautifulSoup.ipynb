{
  "nbformat": 4,
  "nbformat_minor": 0,
  "metadata": {
    "colab": {
      "name": "01_BeautifulSoup.ipynb",
      "provenance": [],
      "collapsed_sections": []
    },
    "kernelspec": {
      "name": "python3",
      "display_name": "Python 3"
    },
    "language_info": {
      "name": "python"
    }
  },
  "cells": [
    {
      "cell_type": "markdown",
      "metadata": {
        "id": "6kYEJCz2TtNV"
      },
      "source": [
        "# BeautifulSoup 사용법"
      ]
    },
    {
      "cell_type": "markdown",
      "metadata": {
        "id": "UUCUWjGQTSCn"
      },
      "source": [
        "## Local HTML 파일 열기"
      ]
    },
    {
      "cell_type": "code",
      "metadata": {
        "id": "uPo12UutSmiM"
      },
      "source": [
        "from bs4 import BeautifulSoup\n",
        "with open('00_Example.html') as fp:\n",
        "  soup = BeautifulSoup(fp, 'html.parser')\n"
      ],
      "execution_count": 1,
      "outputs": []
    },
    {
      "cell_type": "code",
      "metadata": {
        "colab": {
          "base_uri": "https://localhost:8080/"
        },
        "id": "IzaudCqPTnsW",
        "outputId": "0d9394d2-032c-43f4-890e-e41a66c8ef03"
      },
      "source": [
        "soup"
      ],
      "execution_count": 2,
      "outputs": [
        {
          "output_type": "execute_result",
          "data": {
            "text/plain": [
              "<!DOCTYPE html>\n",
              "\n",
              "<html lang=\"en\">\n",
              "<head>\n",
              "<meta charset=\"utf-8\"/>\n",
              "<meta content=\"width=device-width, initial-scale=1.0\" name=\"viewport\"/>\n",
              "<title>Web Crawling Example</title>\n",
              "</head>\n",
              "<body>\n",
              "<div>\n",
              "<p>a</p><p>b</p><p>c</p>\n",
              "</div>\n",
              "<div class=\"ex_class sample\">\n",
              "<p>1</p><p>2</p><p>3</p>\n",
              "</div>\n",
              "<div id=\"ex_id\">\n",
              "<p>X</p><p>Y</p><p>Z</p>\n",
              "</div>\n",
              "<h1>This is a heading.</h1>\n",
              "<p>This is a paragraph.</p>\n",
              "<p>This is another paragraph.</p>\n",
              "<a class=\"a sample\" href=\"www.naver.com\">Naver</a>\n",
              "</body>\n",
              "</html>"
            ]
          },
          "metadata": {
            "tags": []
          },
          "execution_count": 2
        }
      ]
    },
    {
      "cell_type": "code",
      "metadata": {
        "colab": {
          "base_uri": "https://localhost:8080/"
        },
        "id": "ZsSfROJJTo2X",
        "outputId": "2c058a01-dcf0-4041-e85e-1c5f59c39679"
      },
      "source": [
        "first_div = soup.find('div')           # find - 한 개만 찾는 메서드\n",
        "first_div"
      ],
      "execution_count": 3,
      "outputs": [
        {
          "output_type": "execute_result",
          "data": {
            "text/plain": [
              "<div>\n",
              "<p>a</p><p>b</p><p>c</p>\n",
              "</div>"
            ]
          },
          "metadata": {
            "tags": []
          },
          "execution_count": 3
        }
      ]
    },
    {
      "cell_type": "code",
      "metadata": {
        "colab": {
          "base_uri": "https://localhost:8080/"
        },
        "id": "PtkOuaZWURTK",
        "outputId": "d9c831be-6723-4df2-ac10-5b656914ad0f"
      },
      "source": [
        "all_divs = soup.find_all('div')        # find_all - 모두를 찾는 메서드\n",
        "all_divs"
      ],
      "execution_count": 4,
      "outputs": [
        {
          "output_type": "execute_result",
          "data": {
            "text/plain": [
              "[<div>\n",
              " <p>a</p><p>b</p><p>c</p>\n",
              " </div>, <div class=\"ex_class sample\">\n",
              " <p>1</p><p>2</p><p>3</p>\n",
              " </div>, <div id=\"ex_id\">\n",
              " <p>X</p><p>Y</p><p>Z</p>\n",
              " </div>]"
            ]
          },
          "metadata": {
            "tags": []
          },
          "execution_count": 4
        }
      ]
    },
    {
      "cell_type": "code",
      "metadata": {
        "colab": {
          "base_uri": "https://localhost:8080/"
        },
        "id": "wfrPHMOYUml-",
        "outputId": "d77cd6c8-3643-4b4d-d6a8-586e86ead153"
      },
      "source": [
        "len(all_divs)"
      ],
      "execution_count": 5,
      "outputs": [
        {
          "output_type": "execute_result",
          "data": {
            "text/plain": [
              "3"
            ]
          },
          "metadata": {
            "tags": []
          },
          "execution_count": 5
        }
      ]
    },
    {
      "cell_type": "code",
      "metadata": {
        "colab": {
          "base_uri": "https://localhost:8080/"
        },
        "id": "dl2Ec6V5UrkB",
        "outputId": "a1024871-2370-4610-f762-96f7858db646"
      },
      "source": [
        "for div in all_divs:\n",
        "  print(div)"
      ],
      "execution_count": 6,
      "outputs": [
        {
          "output_type": "stream",
          "text": [
            "<div>\n",
            "<p>a</p><p>b</p><p>c</p>\n",
            "</div>\n",
            "<div class=\"ex_class sample\">\n",
            "<p>1</p><p>2</p><p>3</p>\n",
            "</div>\n",
            "<div id=\"ex_id\">\n",
            "<p>X</p><p>Y</p><p>Z</p>\n",
            "</div>\n"
          ],
          "name": "stdout"
        }
      ]
    },
    {
      "cell_type": "code",
      "metadata": {
        "colab": {
          "base_uri": "https://localhost:8080/"
        },
        "id": "edckj9t0U4Bu",
        "outputId": "83af84d3-56f9-416f-e3f4-a37be427ceb4"
      },
      "source": [
        "all_ps = soup.find_all('p')\n",
        "len(all_ps)"
      ],
      "execution_count": 7,
      "outputs": [
        {
          "output_type": "execute_result",
          "data": {
            "text/plain": [
              "11"
            ]
          },
          "metadata": {
            "tags": []
          },
          "execution_count": 7
        }
      ]
    },
    {
      "cell_type": "markdown",
      "metadata": {
        "id": "hZA6aAcfViKr"
      },
      "source": [
        "## select_one - CSS Selector로 찾기"
      ]
    },
    {
      "cell_type": "code",
      "metadata": {
        "colab": {
          "base_uri": "https://localhost:8080/"
        },
        "id": "8NcLDfCMVTRy",
        "outputId": "cdf82892-77ac-45d8-d4a6-ed8203436a95"
      },
      "source": [
        "ex_id_div = soup.select_one('#ex_id')\n",
        "ex_id_div"
      ],
      "execution_count": 8,
      "outputs": [
        {
          "output_type": "execute_result",
          "data": {
            "text/plain": [
              "<div id=\"ex_id\">\n",
              "<p>X</p><p>Y</p><p>Z</p>\n",
              "</div>"
            ]
          },
          "metadata": {
            "tags": []
          },
          "execution_count": 8
        }
      ]
    },
    {
      "cell_type": "code",
      "metadata": {
        "colab": {
          "base_uri": "https://localhost:8080/"
        },
        "id": "JGNUe2tVWVL7",
        "outputId": "21be1598-3005-4eb6-efce-ab406a7ef478"
      },
      "source": [
        "ex_sample_div = soup.select_one('.ex_class.sample')\n",
        "ex_sample_div"
      ],
      "execution_count": 9,
      "outputs": [
        {
          "output_type": "execute_result",
          "data": {
            "text/plain": [
              "<div class=\"ex_class sample\">\n",
              "<p>1</p><p>2</p><p>3</p>\n",
              "</div>"
            ]
          },
          "metadata": {
            "tags": []
          },
          "execution_count": 9
        }
      ]
    },
    {
      "cell_type": "markdown",
      "metadata": {
        "id": "Qtszba7TWtR6"
      },
      "source": [
        "## select - CSS Selector - 모두를 찾는 메서드"
      ]
    },
    {
      "cell_type": "code",
      "metadata": {
        "colab": {
          "base_uri": "https://localhost:8080/"
        },
        "id": "sTp8uxDEWiGM",
        "outputId": "0f072a78-4103-40c8-b91b-7fbcd89a71e6"
      },
      "source": [
        "ex_id_divs = soup.select('#ex_id')         # 결과는 리스트로 출력\n",
        "ex_id_divs"
      ],
      "execution_count": 10,
      "outputs": [
        {
          "output_type": "execute_result",
          "data": {
            "text/plain": [
              "[<div id=\"ex_id\">\n",
              " <p>X</p><p>Y</p><p>Z</p>\n",
              " </div>]"
            ]
          },
          "metadata": {
            "tags": []
          },
          "execution_count": 10
        }
      ]
    },
    {
      "cell_type": "code",
      "metadata": {
        "colab": {
          "base_uri": "https://localhost:8080/"
        },
        "id": "H4sYEXjtW98s",
        "outputId": "c510c5eb-1df2-483a-9a77-d0720acda5df"
      },
      "source": [
        "len(ex_id_divs)"
      ],
      "execution_count": 11,
      "outputs": [
        {
          "output_type": "execute_result",
          "data": {
            "text/plain": [
              "1"
            ]
          },
          "metadata": {
            "tags": []
          },
          "execution_count": 11
        }
      ]
    },
    {
      "cell_type": "code",
      "metadata": {
        "colab": {
          "base_uri": "https://localhost:8080/"
        },
        "id": "JemOYJYQXBRz",
        "outputId": "8b0def8e-074c-4cfc-fae0-7fe252b245cc"
      },
      "source": [
        "sample_divs =soup.select('.sample')\n",
        "sample_divs"
      ],
      "execution_count": 12,
      "outputs": [
        {
          "output_type": "execute_result",
          "data": {
            "text/plain": [
              "[<div class=\"ex_class sample\">\n",
              " <p>1</p><p>2</p><p>3</p>\n",
              " </div>, <a class=\"a sample\" href=\"www.naver.com\">Naver</a>]"
            ]
          },
          "metadata": {
            "tags": []
          },
          "execution_count": 12
        }
      ]
    },
    {
      "cell_type": "code",
      "metadata": {
        "colab": {
          "base_uri": "https://localhost:8080/"
        },
        "id": "RsjdXfulXZ5i",
        "outputId": "ee18ab23-4172-4efe-f21f-029c61ec1ffc"
      },
      "source": [
        "len(sample_divs)"
      ],
      "execution_count": 13,
      "outputs": [
        {
          "output_type": "execute_result",
          "data": {
            "text/plain": [
              "2"
            ]
          },
          "metadata": {
            "tags": []
          },
          "execution_count": 13
        }
      ]
    },
    {
      "cell_type": "markdown",
      "metadata": {
        "id": "rmn8aNbaXmJP"
      },
      "source": [
        "## 결과 가져오기"
      ]
    },
    {
      "cell_type": "code",
      "metadata": {
        "colab": {
          "base_uri": "https://localhost:8080/",
          "height": 36
        },
        "id": "aei-NAe4XbHt",
        "outputId": "eedcb464-66ef-4573-f3e4-1d41b84a6bf5"
      },
      "source": [
        "# <a class=\"a sample\" href=\"www.naver.com\">Naver</a>\n",
        "result = soup.select_one('.a.sample').get_text()\n",
        "result"
      ],
      "execution_count": 15,
      "outputs": [
        {
          "output_type": "execute_result",
          "data": {
            "application/vnd.google.colaboratory.intrinsic+json": {
              "type": "string"
            },
            "text/plain": [
              "'Naver'"
            ]
          },
          "metadata": {
            "tags": []
          },
          "execution_count": 15
        }
      ]
    },
    {
      "cell_type": "code",
      "metadata": {
        "colab": {
          "base_uri": "https://localhost:8080/",
          "height": 36
        },
        "id": "IRNPV7qgYBlb",
        "outputId": "002c888f-3ccf-4c1e-efed-dc3523ecb7c4"
      },
      "source": [
        "result = soup.select_one('.a.sample').string\n",
        "result"
      ],
      "execution_count": 16,
      "outputs": [
        {
          "output_type": "execute_result",
          "data": {
            "application/vnd.google.colaboratory.intrinsic+json": {
              "type": "string"
            },
            "text/plain": [
              "'Naver'"
            ]
          },
          "metadata": {
            "tags": []
          },
          "execution_count": 16
        }
      ]
    },
    {
      "cell_type": "code",
      "metadata": {
        "colab": {
          "base_uri": "https://localhost:8080/",
          "height": 36
        },
        "id": "3z28oIu5YM5m",
        "outputId": "cc6dcf21-7d57-4909-d40e-d70a4c11599e"
      },
      "source": [
        "# 속성 값\n",
        "href = soup.select_one('.a.sample')['href']\n",
        "href"
      ],
      "execution_count": 17,
      "outputs": [
        {
          "output_type": "execute_result",
          "data": {
            "application/vnd.google.colaboratory.intrinsic+json": {
              "type": "string"
            },
            "text/plain": [
              "'www.naver.com'"
            ]
          },
          "metadata": {
            "tags": []
          },
          "execution_count": 17
        }
      ]
    },
    {
      "cell_type": "markdown",
      "metadata": {
        "id": "WpsoRCyWY8AB"
      },
      "source": [
        "### id = \"ex_id\" 인 div에서 p 내용물 가져오기"
      ]
    },
    {
      "cell_type": "code",
      "metadata": {
        "id": "_A6bHkEXYdud"
      },
      "source": [
        "'''    \n",
        "<div id=\"ex_id\">\n",
        "    <p>X</p><p>Y</p><p>Z</p>\n",
        "</div>\n",
        "'''"
      ],
      "execution_count": null,
      "outputs": []
    },
    {
      "cell_type": "code",
      "metadata": {
        "colab": {
          "base_uri": "https://localhost:8080/"
        },
        "id": "vIafojWRZEhO",
        "outputId": "fd5ccde8-4167-4823-fe1f-1500c45610f5"
      },
      "source": [
        "ex_id_div = soup.select_one('#ex_id')\n",
        "all_ps = ex_id_div.select('p')\n",
        "all_ps"
      ],
      "execution_count": 18,
      "outputs": [
        {
          "output_type": "execute_result",
          "data": {
            "text/plain": [
              "[<p>X</p>, <p>Y</p>, <p>Z</p>]"
            ]
          },
          "metadata": {
            "tags": []
          },
          "execution_count": 18
        }
      ]
    },
    {
      "cell_type": "code",
      "metadata": {
        "colab": {
          "base_uri": "https://localhost:8080/"
        },
        "id": "7qnCQe6rZiT6",
        "outputId": "8aad10cf-1eb2-431d-8ab5-ddd5e7f644bf"
      },
      "source": [
        "for p in all_ps:\n",
        "  print(p.string)"
      ],
      "execution_count": 20,
      "outputs": [
        {
          "output_type": "stream",
          "text": [
            "X\n",
            "Y\n",
            "Z\n"
          ],
          "name": "stdout"
        }
      ]
    },
    {
      "cell_type": "code",
      "metadata": {
        "id": "ZLbYpGgZZolD"
      },
      "source": [
        ""
      ],
      "execution_count": null,
      "outputs": []
    }
  ]
}