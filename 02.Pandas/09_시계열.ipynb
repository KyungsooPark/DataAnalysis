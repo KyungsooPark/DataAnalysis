{
  "nbformat": 4,
  "nbformat_minor": 0,
  "metadata": {
    "colab": {
      "name": "09_시계열.ipynb",
      "provenance": [],
      "collapsed_sections": []
    },
    "kernelspec": {
      "name": "python3",
      "display_name": "Python 3"
    },
    "language_info": {
      "name": "python"
    }
  },
  "cells": [
    {
      "cell_type": "markdown",
      "metadata": {
        "id": "vXFoTXev4HaB"
      },
      "source": [
        "# 시계열 자료 다루기"
      ]
    },
    {
      "cell_type": "code",
      "metadata": {
        "id": "0WmZG0GU4EZV"
      },
      "source": [
        "import numpy as np\n",
        "import pandas as pd"
      ],
      "execution_count": 1,
      "outputs": []
    },
    {
      "cell_type": "markdown",
      "metadata": {
        "id": "TCzXEB6G4Yt2"
      },
      "source": [
        "## Datetimeindex 인덱스"
      ]
    },
    {
      "cell_type": "code",
      "metadata": {
        "colab": {
          "base_uri": "https://localhost:8080/"
        },
        "id": "J9pavmgq4eES",
        "outputId": "793094b4-430c-4bd5-98a5-7ed6d6ba136a"
      },
      "source": [
        "date_str = [\"2021, 8, 12\", \"2021-8-12\", \"20210812\", \"2021.8.12\", '081221', '8/12/21']\n",
        "idx = pd.to_datetime(date_str)\n",
        "idx"
      ],
      "execution_count": 5,
      "outputs": [
        {
          "output_type": "execute_result",
          "data": {
            "text/plain": [
              "DatetimeIndex(['2021-08-12', '2021-08-12', '2021-08-12', '2021-08-12',\n",
              "               '2021-08-12', '2021-08-12'],\n",
              "              dtype='datetime64[ns]', freq=None)"
            ]
          },
          "metadata": {
            "tags": []
          },
          "execution_count": 5
        }
      ]
    },
    {
      "cell_type": "code",
      "metadata": {
        "colab": {
          "base_uri": "https://localhost:8080/"
        },
        "id": "_LMB_CDV5DLg",
        "outputId": "304b6068-99a3-4d9a-d3db-311be31af873"
      },
      "source": [
        "np.random.seed(2021)\n",
        "s = pd.Series(np.random.randn(6), index=idx)\n",
        "s"
      ],
      "execution_count": 8,
      "outputs": [
        {
          "output_type": "execute_result",
          "data": {
            "text/plain": [
              "2021-08-12    1.488609\n",
              "2021-08-12    0.676011\n",
              "2021-08-12   -0.418451\n",
              "2021-08-12   -0.806521\n",
              "2021-08-12    0.555876\n",
              "2021-08-12   -0.705504\n",
              "dtype: float64"
            ]
          },
          "metadata": {
            "tags": []
          },
          "execution_count": 8
        }
      ]
    },
    {
      "cell_type": "code",
      "metadata": {
        "colab": {
          "base_uri": "https://localhost:8080/"
        },
        "id": "8UzsVPSt5rLS",
        "outputId": "53da99e4-376e-47fa-a672-b115ea8fb8ba"
      },
      "source": [
        "# 일(day)\n",
        "pd.date_range('20210801','2021-08-31')"
      ],
      "execution_count": 12,
      "outputs": [
        {
          "output_type": "execute_result",
          "data": {
            "text/plain": [
              "DatetimeIndex(['2021-08-01', '2021-08-02', '2021-08-03', '2021-08-04',\n",
              "               '2021-08-05', '2021-08-06', '2021-08-07', '2021-08-08',\n",
              "               '2021-08-09', '2021-08-10', '2021-08-11', '2021-08-12',\n",
              "               '2021-08-13', '2021-08-14', '2021-08-15', '2021-08-16',\n",
              "               '2021-08-17', '2021-08-18', '2021-08-19', '2021-08-20',\n",
              "               '2021-08-21', '2021-08-22', '2021-08-23', '2021-08-24',\n",
              "               '2021-08-25', '2021-08-26', '2021-08-27', '2021-08-28',\n",
              "               '2021-08-29', '2021-08-30', '2021-08-31'],\n",
              "              dtype='datetime64[ns]', freq='D')"
            ]
          },
          "metadata": {
            "tags": []
          },
          "execution_count": 12
        }
      ]
    },
    {
      "cell_type": "code",
      "metadata": {
        "colab": {
          "base_uri": "https://localhost:8080/"
        },
        "id": "UrsCRFxC6JRz",
        "outputId": "486e24cb-6c90-4d75-ed1a-d333ba5200cb"
      },
      "source": [
        "pd.date_range('20210801', periods=31)"
      ],
      "execution_count": 11,
      "outputs": [
        {
          "output_type": "execute_result",
          "data": {
            "text/plain": [
              "DatetimeIndex(['2021-08-01', '2021-08-02', '2021-08-03', '2021-08-04',\n",
              "               '2021-08-05', '2021-08-06', '2021-08-07', '2021-08-08',\n",
              "               '2021-08-09', '2021-08-10', '2021-08-11', '2021-08-12',\n",
              "               '2021-08-13', '2021-08-14', '2021-08-15', '2021-08-16',\n",
              "               '2021-08-17', '2021-08-18', '2021-08-19', '2021-08-20',\n",
              "               '2021-08-21', '2021-08-22', '2021-08-23', '2021-08-24',\n",
              "               '2021-08-25', '2021-08-26', '2021-08-27', '2021-08-28',\n",
              "               '2021-08-29', '2021-08-30', '2021-08-31'],\n",
              "              dtype='datetime64[ns]', freq='D')"
            ]
          },
          "metadata": {
            "tags": []
          },
          "execution_count": 11
        }
      ]
    },
    {
      "cell_type": "code",
      "metadata": {
        "colab": {
          "base_uri": "https://localhost:8080/"
        },
        "id": "WfZxLj-x6TvL",
        "outputId": "7beb50d6-df33-438a-92b8-a6fac0be24c3"
      },
      "source": [
        "# Biz-day (월~금)\n",
        "pd.date_range('20210801', periods=22, freq='B')"
      ],
      "execution_count": 14,
      "outputs": [
        {
          "output_type": "execute_result",
          "data": {
            "text/plain": [
              "DatetimeIndex(['2021-08-02', '2021-08-03', '2021-08-04', '2021-08-05',\n",
              "               '2021-08-06', '2021-08-09', '2021-08-10', '2021-08-11',\n",
              "               '2021-08-12', '2021-08-13', '2021-08-16', '2021-08-17',\n",
              "               '2021-08-18', '2021-08-19', '2021-08-20', '2021-08-23',\n",
              "               '2021-08-24', '2021-08-25', '2021-08-26', '2021-08-27',\n",
              "               '2021-08-30', '2021-08-31'],\n",
              "              dtype='datetime64[ns]', freq='B')"
            ]
          },
          "metadata": {
            "tags": []
          },
          "execution_count": 14
        }
      ]
    },
    {
      "cell_type": "code",
      "metadata": {
        "colab": {
          "base_uri": "https://localhost:8080/"
        },
        "id": "2MQLIgs99w4N",
        "outputId": "e752e0ef-4cfd-49e3-d346-f1e40e5fdc00"
      },
      "source": [
        "# 일요일(W)\n",
        "pd.date_range('20210801','2021-08-31', freq='W')"
      ],
      "execution_count": 15,
      "outputs": [
        {
          "output_type": "execute_result",
          "data": {
            "text/plain": [
              "DatetimeIndex(['2021-08-01', '2021-08-08', '2021-08-15', '2021-08-22',\n",
              "               '2021-08-29'],\n",
              "              dtype='datetime64[ns]', freq='W-SUN')"
            ]
          },
          "metadata": {
            "tags": []
          },
          "execution_count": 15
        }
      ]
    },
    {
      "cell_type": "markdown",
      "metadata": {
        "id": "zTq-oYij-nVR"
      },
      "source": [
        "## resample 연산"
      ]
    },
    {
      "cell_type": "code",
      "metadata": {
        "colab": {
          "base_uri": "https://localhost:8080/"
        },
        "id": "UK_Wcsv2-IRD",
        "outputId": "c967ad78-2e93-4d36-ddc0-d9819aba4129"
      },
      "source": [
        "ts = pd.Series(np.random.randn(100),\n",
        "               index=pd.date_range(\"2021-1-1\", periods=100, freq=\"D\"))\n",
        "ts.tail(10)"
      ],
      "execution_count": 22,
      "outputs": [
        {
          "output_type": "execute_result",
          "data": {
            "text/plain": [
              "2021-04-01    0.973563\n",
              "2021-04-02    0.254141\n",
              "2021-04-03    1.058796\n",
              "2021-04-04    0.781070\n",
              "2021-04-05   -0.546358\n",
              "2021-04-06    1.546501\n",
              "2021-04-07    1.460802\n",
              "2021-04-08   -0.405789\n",
              "2021-04-09    1.430868\n",
              "2021-04-10   -0.210700\n",
              "Freq: D, dtype: float64"
            ]
          },
          "metadata": {
            "tags": []
          },
          "execution_count": 22
        }
      ]
    },
    {
      "cell_type": "code",
      "metadata": {
        "colab": {
          "base_uri": "https://localhost:8080/"
        },
        "id": "FYfEultx-yh-",
        "outputId": "5746d50a-dccf-4309-e4fe-9712ceee8c9a"
      },
      "source": [
        "ts.resample('W').sum()"
      ],
      "execution_count": 23,
      "outputs": [
        {
          "output_type": "execute_result",
          "data": {
            "text/plain": [
              "2021-01-03   -0.736000\n",
              "2021-01-10   -2.175881\n",
              "2021-01-17   -0.660944\n",
              "2021-01-24   -3.330435\n",
              "2021-01-31    1.901420\n",
              "2021-02-07   -2.894476\n",
              "2021-02-14    1.841533\n",
              "2021-02-21    1.399292\n",
              "2021-02-28    1.830105\n",
              "2021-03-07   -1.750725\n",
              "2021-03-14   -4.528349\n",
              "2021-03-21    2.630750\n",
              "2021-03-28   -3.536737\n",
              "2021-04-04    2.942378\n",
              "2021-04-11    3.275324\n",
              "Freq: W-SUN, dtype: float64"
            ]
          },
          "metadata": {
            "tags": []
          },
          "execution_count": 23
        }
      ]
    },
    {
      "cell_type": "code",
      "metadata": {
        "colab": {
          "base_uri": "https://localhost:8080/"
        },
        "id": "HqF9UBIY-5bw",
        "outputId": "ae3e33d4-bfbe-4c9b-b9b4-33286261048f"
      },
      "source": [
        "ts.resample('M').first()"
      ],
      "execution_count": 24,
      "outputs": [
        {
          "output_type": "execute_result",
          "data": {
            "text/plain": [
              "2021-01-31   -1.956648\n",
              "2021-02-28    1.195234\n",
              "2021-03-31   -1.436998\n",
              "2021-04-30    0.973563\n",
              "Freq: M, dtype: float64"
            ]
          },
          "metadata": {
            "tags": []
          },
          "execution_count": 24
        }
      ]
    },
    {
      "cell_type": "code",
      "metadata": {
        "id": "fSqgkbTP_eof"
      },
      "source": [
        ""
      ],
      "execution_count": null,
      "outputs": []
    }
  ]
}