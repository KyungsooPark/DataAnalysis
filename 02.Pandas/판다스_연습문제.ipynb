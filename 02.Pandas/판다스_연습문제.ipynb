{
  "nbformat": 4,
  "nbformat_minor": 0,
  "metadata": {
    "colab": {
      "name": "판다스 연습문제.ipynb",
      "provenance": [],
      "collapsed_sections": []
    },
    "kernelspec": {
      "name": "python3",
      "display_name": "Python 3"
    },
    "language_info": {
      "name": "python"
    }
  },
  "cells": [
    {
      "cell_type": "code",
      "metadata": {
        "id": "uw_Rht0IXPVY"
      },
      "source": [
        "import numpy as np\n",
        "import pandas as pd\n",
        "import seaborn as sns"
      ],
      "execution_count": null,
      "outputs": []
    },
    {
      "cell_type": "code",
      "metadata": {
        "id": "sSwIE11JXP1K"
      },
      "source": [
        "titanic = sns.load_dataset(\"titanic\")"
      ],
      "execution_count": null,
      "outputs": []
    },
    {
      "cell_type": "code",
      "metadata": {
        "colab": {
          "base_uri": "https://localhost:8080/",
          "height": 175
        },
        "id": "_yjYqfn7sLPy",
        "outputId": "0136e4ec-bb4a-4c61-aa16-8a4b2bd6003b"
      },
      "source": [
        "# 1. 2차원 표\n",
        "df = pd.DataFrame(np.arange(20).reshape(4,5),\n",
        "                  index=list('abcd'), columns=list('vwxyz'))\n",
        "df"
      ],
      "execution_count": null,
      "outputs": [
        {
          "output_type": "execute_result",
          "data": {
            "text/html": [
              "<div>\n",
              "<style scoped>\n",
              "    .dataframe tbody tr th:only-of-type {\n",
              "        vertical-align: middle;\n",
              "    }\n",
              "\n",
              "    .dataframe tbody tr th {\n",
              "        vertical-align: top;\n",
              "    }\n",
              "\n",
              "    .dataframe thead th {\n",
              "        text-align: right;\n",
              "    }\n",
              "</style>\n",
              "<table border=\"1\" class=\"dataframe\">\n",
              "  <thead>\n",
              "    <tr style=\"text-align: right;\">\n",
              "      <th></th>\n",
              "      <th>v</th>\n",
              "      <th>w</th>\n",
              "      <th>x</th>\n",
              "      <th>y</th>\n",
              "      <th>z</th>\n",
              "    </tr>\n",
              "  </thead>\n",
              "  <tbody>\n",
              "    <tr>\n",
              "      <th>a</th>\n",
              "      <td>0</td>\n",
              "      <td>1</td>\n",
              "      <td>2</td>\n",
              "      <td>3</td>\n",
              "      <td>4</td>\n",
              "    </tr>\n",
              "    <tr>\n",
              "      <th>b</th>\n",
              "      <td>5</td>\n",
              "      <td>6</td>\n",
              "      <td>7</td>\n",
              "      <td>8</td>\n",
              "      <td>9</td>\n",
              "    </tr>\n",
              "    <tr>\n",
              "      <th>c</th>\n",
              "      <td>10</td>\n",
              "      <td>11</td>\n",
              "      <td>12</td>\n",
              "      <td>13</td>\n",
              "      <td>14</td>\n",
              "    </tr>\n",
              "    <tr>\n",
              "      <th>d</th>\n",
              "      <td>15</td>\n",
              "      <td>16</td>\n",
              "      <td>17</td>\n",
              "      <td>18</td>\n",
              "      <td>19</td>\n",
              "    </tr>\n",
              "  </tbody>\n",
              "</table>\n",
              "</div>"
            ],
            "text/plain": [
              "    v   w   x   y   z\n",
              "a   0   1   2   3   4\n",
              "b   5   6   7   8   9\n",
              "c  10  11  12  13  14\n",
              "d  15  16  17  18  19"
            ]
          },
          "metadata": {
            "tags": []
          },
          "execution_count": 4
        }
      ]
    },
    {
      "cell_type": "code",
      "metadata": {
        "colab": {
          "base_uri": "https://localhost:8080/",
          "height": 143
        },
        "id": "b-V2JRoAsyGL",
        "outputId": "cec457ad-ef44-49f2-fb9b-cca3164f11e0"
      },
      "source": [
        "# 2. Dictionary list\n",
        "dl = [\n",
        "      {'name':'James', 'age':24, 'job':'student'},\n",
        "      {'name':'Maria', 'age':36, 'job':'teacher'},\n",
        "      {'name':'Brian', 'age':30, 'job':'programmer'}\n",
        "]\n",
        "df = pd.DataFrame(dl)\n",
        "df"
      ],
      "execution_count": null,
      "outputs": [
        {
          "output_type": "execute_result",
          "data": {
            "text/html": [
              "<div>\n",
              "<style scoped>\n",
              "    .dataframe tbody tr th:only-of-type {\n",
              "        vertical-align: middle;\n",
              "    }\n",
              "\n",
              "    .dataframe tbody tr th {\n",
              "        vertical-align: top;\n",
              "    }\n",
              "\n",
              "    .dataframe thead th {\n",
              "        text-align: right;\n",
              "    }\n",
              "</style>\n",
              "<table border=\"1\" class=\"dataframe\">\n",
              "  <thead>\n",
              "    <tr style=\"text-align: right;\">\n",
              "      <th></th>\n",
              "      <th>name</th>\n",
              "      <th>age</th>\n",
              "      <th>job</th>\n",
              "    </tr>\n",
              "  </thead>\n",
              "  <tbody>\n",
              "    <tr>\n",
              "      <th>0</th>\n",
              "      <td>James</td>\n",
              "      <td>24</td>\n",
              "      <td>student</td>\n",
              "    </tr>\n",
              "    <tr>\n",
              "      <th>1</th>\n",
              "      <td>Maria</td>\n",
              "      <td>36</td>\n",
              "      <td>teacher</td>\n",
              "    </tr>\n",
              "    <tr>\n",
              "      <th>2</th>\n",
              "      <td>Brian</td>\n",
              "      <td>30</td>\n",
              "      <td>programmer</td>\n",
              "    </tr>\n",
              "  </tbody>\n",
              "</table>\n",
              "</div>"
            ],
            "text/plain": [
              "    name  age         job\n",
              "0  James   24     student\n",
              "1  Maria   36     teacher\n",
              "2  Brian   30  programmer"
            ]
          },
          "metadata": {
            "tags": []
          },
          "execution_count": 6
        }
      ]
    },
    {
      "cell_type": "code",
      "metadata": {
        "colab": {
          "base_uri": "https://localhost:8080/",
          "height": 143
        },
        "id": "HvdQZANXuC0i",
        "outputId": "3240694e-fdd7-4781-dc92-0bcf4e4a6a42"
      },
      "source": [
        "# 3. 여러개의 리스트\n",
        "names = ['James', 'Maria', 'Brian']\n",
        "ages = [24, 36, 30]\n",
        "jobs = ['student', 'teacher', 'programmer']\n",
        "df = pd.DataFrame({\n",
        "    'name':names, 'age':ages, 'job':jobs\n",
        "})\n",
        "df"
      ],
      "execution_count": null,
      "outputs": [
        {
          "output_type": "execute_result",
          "data": {
            "text/html": [
              "<div>\n",
              "<style scoped>\n",
              "    .dataframe tbody tr th:only-of-type {\n",
              "        vertical-align: middle;\n",
              "    }\n",
              "\n",
              "    .dataframe tbody tr th {\n",
              "        vertical-align: top;\n",
              "    }\n",
              "\n",
              "    .dataframe thead th {\n",
              "        text-align: right;\n",
              "    }\n",
              "</style>\n",
              "<table border=\"1\" class=\"dataframe\">\n",
              "  <thead>\n",
              "    <tr style=\"text-align: right;\">\n",
              "      <th></th>\n",
              "      <th>name</th>\n",
              "      <th>age</th>\n",
              "      <th>job</th>\n",
              "    </tr>\n",
              "  </thead>\n",
              "  <tbody>\n",
              "    <tr>\n",
              "      <th>0</th>\n",
              "      <td>James</td>\n",
              "      <td>24</td>\n",
              "      <td>student</td>\n",
              "    </tr>\n",
              "    <tr>\n",
              "      <th>1</th>\n",
              "      <td>Maria</td>\n",
              "      <td>36</td>\n",
              "      <td>teacher</td>\n",
              "    </tr>\n",
              "    <tr>\n",
              "      <th>2</th>\n",
              "      <td>Brian</td>\n",
              "      <td>30</td>\n",
              "      <td>programmer</td>\n",
              "    </tr>\n",
              "  </tbody>\n",
              "</table>\n",
              "</div>"
            ],
            "text/plain": [
              "    name  age         job\n",
              "0  James   24     student\n",
              "1  Maria   36     teacher\n",
              "2  Brian   30  programmer"
            ]
          },
          "metadata": {
            "tags": []
          },
          "execution_count": 8
        }
      ]
    },
    {
      "cell_type": "code",
      "metadata": {
        "id": "O40kn0GQxHKS"
      },
      "source": [
        "price_list, author_list, title_list\n",
        "for page in pages:\n",
        "  lis\n",
        "  for li in lis:\n",
        "  price\n",
        "  author\n",
        "  title\n",
        "\n",
        "  price_list.append(price)\n",
        "  author_list.append(author)\n",
        "  title_list.append(title)\n",
        "\n",
        "  df = pd.DataFrame({\n",
        "      '제목':title_list\n",
        "      '저자':author_list\n",
        "      '가격':price_list\n",
        "  })"
      ],
      "execution_count": null,
      "outputs": []
    },
    {
      "cell_type": "code",
      "metadata": {
        "id": "Qk2gyF02x-m2"
      },
      "source": [
        "iris = sns.load_dataset('iris')"
      ],
      "execution_count": null,
      "outputs": []
    },
    {
      "cell_type": "code",
      "metadata": {
        "colab": {
          "base_uri": "https://localhost:8080/",
          "height": 205
        },
        "id": "RyT1oJ3EyLzU",
        "outputId": "ccb53a9b-2572-4103-a667-2e57ec039de7"
      },
      "source": [
        "iris.head()"
      ],
      "execution_count": null,
      "outputs": [
        {
          "output_type": "execute_result",
          "data": {
            "text/html": [
              "<div>\n",
              "<style scoped>\n",
              "    .dataframe tbody tr th:only-of-type {\n",
              "        vertical-align: middle;\n",
              "    }\n",
              "\n",
              "    .dataframe tbody tr th {\n",
              "        vertical-align: top;\n",
              "    }\n",
              "\n",
              "    .dataframe thead th {\n",
              "        text-align: right;\n",
              "    }\n",
              "</style>\n",
              "<table border=\"1\" class=\"dataframe\">\n",
              "  <thead>\n",
              "    <tr style=\"text-align: right;\">\n",
              "      <th></th>\n",
              "      <th>sepal_length</th>\n",
              "      <th>sepal_width</th>\n",
              "      <th>petal_length</th>\n",
              "      <th>petal_width</th>\n",
              "      <th>species</th>\n",
              "    </tr>\n",
              "  </thead>\n",
              "  <tbody>\n",
              "    <tr>\n",
              "      <th>0</th>\n",
              "      <td>5.1</td>\n",
              "      <td>3.5</td>\n",
              "      <td>1.4</td>\n",
              "      <td>0.2</td>\n",
              "      <td>setosa</td>\n",
              "    </tr>\n",
              "    <tr>\n",
              "      <th>1</th>\n",
              "      <td>4.9</td>\n",
              "      <td>3.0</td>\n",
              "      <td>1.4</td>\n",
              "      <td>0.2</td>\n",
              "      <td>setosa</td>\n",
              "    </tr>\n",
              "    <tr>\n",
              "      <th>2</th>\n",
              "      <td>4.7</td>\n",
              "      <td>3.2</td>\n",
              "      <td>1.3</td>\n",
              "      <td>0.2</td>\n",
              "      <td>setosa</td>\n",
              "    </tr>\n",
              "    <tr>\n",
              "      <th>3</th>\n",
              "      <td>4.6</td>\n",
              "      <td>3.1</td>\n",
              "      <td>1.5</td>\n",
              "      <td>0.2</td>\n",
              "      <td>setosa</td>\n",
              "    </tr>\n",
              "    <tr>\n",
              "      <th>4</th>\n",
              "      <td>5.0</td>\n",
              "      <td>3.6</td>\n",
              "      <td>1.4</td>\n",
              "      <td>0.2</td>\n",
              "      <td>setosa</td>\n",
              "    </tr>\n",
              "  </tbody>\n",
              "</table>\n",
              "</div>"
            ],
            "text/plain": [
              "   sepal_length  sepal_width  petal_length  petal_width species\n",
              "0           5.1          3.5           1.4          0.2  setosa\n",
              "1           4.9          3.0           1.4          0.2  setosa\n",
              "2           4.7          3.2           1.3          0.2  setosa\n",
              "3           4.6          3.1           1.5          0.2  setosa\n",
              "4           5.0          3.6           1.4          0.2  setosa"
            ]
          },
          "metadata": {
            "tags": []
          },
          "execution_count": 10
        }
      ]
    },
    {
      "cell_type": "code",
      "metadata": {
        "colab": {
          "base_uri": "https://localhost:8080/"
        },
        "id": "bpGf8MYcyold",
        "outputId": "22725ba7-050d-48e2-804a-b5ad4c36df87"
      },
      "source": [
        "iris.info"
      ],
      "execution_count": null,
      "outputs": [
        {
          "output_type": "execute_result",
          "data": {
            "text/plain": [
              "<bound method DataFrame.info of      sepal_length  sepal_width  petal_length  petal_width    species\n",
              "0             5.1          3.5           1.4          0.2     setosa\n",
              "1             4.9          3.0           1.4          0.2     setosa\n",
              "2             4.7          3.2           1.3          0.2     setosa\n",
              "3             4.6          3.1           1.5          0.2     setosa\n",
              "4             5.0          3.6           1.4          0.2     setosa\n",
              "..            ...          ...           ...          ...        ...\n",
              "145           6.7          3.0           5.2          2.3  virginica\n",
              "146           6.3          2.5           5.0          1.9  virginica\n",
              "147           6.5          3.0           5.2          2.0  virginica\n",
              "148           6.2          3.4           5.4          2.3  virginica\n",
              "149           5.9          3.0           5.1          1.8  virginica\n",
              "\n",
              "[150 rows x 5 columns]>"
            ]
          },
          "metadata": {
            "tags": []
          },
          "execution_count": 11
        }
      ]
    },
    {
      "cell_type": "code",
      "metadata": {
        "colab": {
          "base_uri": "https://localhost:8080/"
        },
        "id": "bM_T6xZZyr3r",
        "outputId": "513affbc-31c9-4b20-9493-42e81c255895"
      },
      "source": [
        "iris.species.value_counts()"
      ],
      "execution_count": null,
      "outputs": [
        {
          "output_type": "execute_result",
          "data": {
            "text/plain": [
              "virginica     50\n",
              "versicolor    50\n",
              "setosa        50\n",
              "Name: species, dtype: int64"
            ]
          },
          "metadata": {
            "tags": []
          },
          "execution_count": 12
        }
      ]
    },
    {
      "cell_type": "code",
      "metadata": {
        "colab": {
          "base_uri": "https://localhost:8080/"
        },
        "id": "rEwLmpO1zubf",
        "outputId": "74291c13-27db-4e0d-b4b3-605471e0ba52"
      },
      "source": [
        "s = iris[iris.species == 'setosa']['sepal_length']\n",
        "np.round(s.mean(), 2), np.round(s.std(), 4)"
      ],
      "execution_count": null,
      "outputs": [
        {
          "output_type": "execute_result",
          "data": {
            "text/plain": [
              "(5.01, 0.3525)"
            ]
          },
          "metadata": {
            "tags": []
          },
          "execution_count": 16
        }
      ]
    },
    {
      "cell_type": "code",
      "metadata": {
        "colab": {
          "base_uri": "https://localhost:8080/"
        },
        "id": "CEF-CqEV0mi4",
        "outputId": "14f25a6d-87d3-4bd8-8d24-d3bcfc22943e"
      },
      "source": [
        "iris.species.unique()"
      ],
      "execution_count": null,
      "outputs": [
        {
          "output_type": "execute_result",
          "data": {
            "text/plain": [
              "array(['setosa', 'versicolor', 'virginica'], dtype=object)"
            ]
          },
          "metadata": {
            "tags": []
          },
          "execution_count": 17
        }
      ]
    },
    {
      "cell_type": "code",
      "metadata": {
        "colab": {
          "base_uri": "https://localhost:8080/"
        },
        "id": "7us1CHvD5p27",
        "outputId": "eba47a36-3784-4b3c-f19b-c6800934830f"
      },
      "source": [
        "iris.columns"
      ],
      "execution_count": null,
      "outputs": [
        {
          "output_type": "execute_result",
          "data": {
            "text/plain": [
              "Index(['sepal_length', 'sepal_width', 'petal_length', 'petal_width',\n",
              "       'species'],\n",
              "      dtype='object')"
            ]
          },
          "metadata": {
            "tags": []
          },
          "execution_count": 18
        }
      ]
    },
    {
      "cell_type": "code",
      "metadata": {
        "id": "CNFyTiKa5zF5"
      },
      "source": [
        "species_list, feature_list, mean_list, std_list = [],[],[],[]\n",
        "for species in iris.species.unique():\n",
        "  for feature in iris.columns[:-1]:\n",
        "    s = iris[iris.species == species][feature]\n",
        "    species_list.append(species)\n",
        "    feature_list.append(feature)\n",
        "    mean_list.append(np.round(s.mean(),2))\n",
        "    std_list.append(np.round(s.std(), 4))"
      ],
      "execution_count": null,
      "outputs": []
    },
    {
      "cell_type": "code",
      "metadata": {
        "colab": {
          "base_uri": "https://localhost:8080/",
          "height": 425
        },
        "id": "Ttl9FAvb6yJR",
        "outputId": "845f3759-317c-452e-8889-3fda77c4288a"
      },
      "source": [
        "df = pd.DataFrame({\n",
        "    'species':species_list, 'feature':feature_list, 'mean':mean_list, 'std':std_list\n",
        "})\n",
        "df"
      ],
      "execution_count": null,
      "outputs": [
        {
          "output_type": "execute_result",
          "data": {
            "text/html": [
              "<div>\n",
              "<style scoped>\n",
              "    .dataframe tbody tr th:only-of-type {\n",
              "        vertical-align: middle;\n",
              "    }\n",
              "\n",
              "    .dataframe tbody tr th {\n",
              "        vertical-align: top;\n",
              "    }\n",
              "\n",
              "    .dataframe thead th {\n",
              "        text-align: right;\n",
              "    }\n",
              "</style>\n",
              "<table border=\"1\" class=\"dataframe\">\n",
              "  <thead>\n",
              "    <tr style=\"text-align: right;\">\n",
              "      <th></th>\n",
              "      <th>species</th>\n",
              "      <th>feature</th>\n",
              "      <th>mean</th>\n",
              "      <th>std</th>\n",
              "    </tr>\n",
              "  </thead>\n",
              "  <tbody>\n",
              "    <tr>\n",
              "      <th>0</th>\n",
              "      <td>setosa</td>\n",
              "      <td>sepal_length</td>\n",
              "      <td>5.01</td>\n",
              "      <td>0.3525</td>\n",
              "    </tr>\n",
              "    <tr>\n",
              "      <th>1</th>\n",
              "      <td>setosa</td>\n",
              "      <td>sepal_width</td>\n",
              "      <td>3.43</td>\n",
              "      <td>0.3791</td>\n",
              "    </tr>\n",
              "    <tr>\n",
              "      <th>2</th>\n",
              "      <td>setosa</td>\n",
              "      <td>petal_length</td>\n",
              "      <td>1.46</td>\n",
              "      <td>0.1737</td>\n",
              "    </tr>\n",
              "    <tr>\n",
              "      <th>3</th>\n",
              "      <td>setosa</td>\n",
              "      <td>petal_width</td>\n",
              "      <td>0.25</td>\n",
              "      <td>0.1054</td>\n",
              "    </tr>\n",
              "    <tr>\n",
              "      <th>4</th>\n",
              "      <td>versicolor</td>\n",
              "      <td>sepal_length</td>\n",
              "      <td>5.94</td>\n",
              "      <td>0.5162</td>\n",
              "    </tr>\n",
              "    <tr>\n",
              "      <th>5</th>\n",
              "      <td>versicolor</td>\n",
              "      <td>sepal_width</td>\n",
              "      <td>2.77</td>\n",
              "      <td>0.3138</td>\n",
              "    </tr>\n",
              "    <tr>\n",
              "      <th>6</th>\n",
              "      <td>versicolor</td>\n",
              "      <td>petal_length</td>\n",
              "      <td>4.26</td>\n",
              "      <td>0.4699</td>\n",
              "    </tr>\n",
              "    <tr>\n",
              "      <th>7</th>\n",
              "      <td>versicolor</td>\n",
              "      <td>petal_width</td>\n",
              "      <td>1.33</td>\n",
              "      <td>0.1978</td>\n",
              "    </tr>\n",
              "    <tr>\n",
              "      <th>8</th>\n",
              "      <td>virginica</td>\n",
              "      <td>sepal_length</td>\n",
              "      <td>6.59</td>\n",
              "      <td>0.6359</td>\n",
              "    </tr>\n",
              "    <tr>\n",
              "      <th>9</th>\n",
              "      <td>virginica</td>\n",
              "      <td>sepal_width</td>\n",
              "      <td>2.97</td>\n",
              "      <td>0.3225</td>\n",
              "    </tr>\n",
              "    <tr>\n",
              "      <th>10</th>\n",
              "      <td>virginica</td>\n",
              "      <td>petal_length</td>\n",
              "      <td>5.55</td>\n",
              "      <td>0.5519</td>\n",
              "    </tr>\n",
              "    <tr>\n",
              "      <th>11</th>\n",
              "      <td>virginica</td>\n",
              "      <td>petal_width</td>\n",
              "      <td>2.03</td>\n",
              "      <td>0.2747</td>\n",
              "    </tr>\n",
              "  </tbody>\n",
              "</table>\n",
              "</div>"
            ],
            "text/plain": [
              "       species       feature  mean     std\n",
              "0       setosa  sepal_length  5.01  0.3525\n",
              "1       setosa   sepal_width  3.43  0.3791\n",
              "2       setosa  petal_length  1.46  0.1737\n",
              "3       setosa   petal_width  0.25  0.1054\n",
              "4   versicolor  sepal_length  5.94  0.5162\n",
              "5   versicolor   sepal_width  2.77  0.3138\n",
              "6   versicolor  petal_length  4.26  0.4699\n",
              "7   versicolor   petal_width  1.33  0.1978\n",
              "8    virginica  sepal_length  6.59  0.6359\n",
              "9    virginica   sepal_width  2.97  0.3225\n",
              "10   virginica  petal_length  5.55  0.5519\n",
              "11   virginica   petal_width  2.03  0.2747"
            ]
          },
          "metadata": {
            "tags": []
          },
          "execution_count": 44
        }
      ]
    },
    {
      "cell_type": "code",
      "metadata": {
        "colab": {
          "base_uri": "https://localhost:8080/",
          "height": 455
        },
        "id": "yA3MVG4R7wjl",
        "outputId": "8baf2087-4cbc-415f-be6e-50ac2e1e9bd7"
      },
      "source": [
        "df.set_index(['feature','species'])"
      ],
      "execution_count": null,
      "outputs": [
        {
          "output_type": "execute_result",
          "data": {
            "text/html": [
              "<div>\n",
              "<style scoped>\n",
              "    .dataframe tbody tr th:only-of-type {\n",
              "        vertical-align: middle;\n",
              "    }\n",
              "\n",
              "    .dataframe tbody tr th {\n",
              "        vertical-align: top;\n",
              "    }\n",
              "\n",
              "    .dataframe thead th {\n",
              "        text-align: right;\n",
              "    }\n",
              "</style>\n",
              "<table border=\"1\" class=\"dataframe\">\n",
              "  <thead>\n",
              "    <tr style=\"text-align: right;\">\n",
              "      <th></th>\n",
              "      <th></th>\n",
              "      <th>mean</th>\n",
              "      <th>std</th>\n",
              "    </tr>\n",
              "    <tr>\n",
              "      <th>feature</th>\n",
              "      <th>species</th>\n",
              "      <th></th>\n",
              "      <th></th>\n",
              "    </tr>\n",
              "  </thead>\n",
              "  <tbody>\n",
              "    <tr>\n",
              "      <th>sepal_length</th>\n",
              "      <th>setosa</th>\n",
              "      <td>5.01</td>\n",
              "      <td>0.3525</td>\n",
              "    </tr>\n",
              "    <tr>\n",
              "      <th>sepal_width</th>\n",
              "      <th>setosa</th>\n",
              "      <td>3.43</td>\n",
              "      <td>0.3791</td>\n",
              "    </tr>\n",
              "    <tr>\n",
              "      <th>petal_length</th>\n",
              "      <th>setosa</th>\n",
              "      <td>1.46</td>\n",
              "      <td>0.1737</td>\n",
              "    </tr>\n",
              "    <tr>\n",
              "      <th>petal_width</th>\n",
              "      <th>setosa</th>\n",
              "      <td>0.25</td>\n",
              "      <td>0.1054</td>\n",
              "    </tr>\n",
              "    <tr>\n",
              "      <th>sepal_length</th>\n",
              "      <th>versicolor</th>\n",
              "      <td>5.94</td>\n",
              "      <td>0.5162</td>\n",
              "    </tr>\n",
              "    <tr>\n",
              "      <th>sepal_width</th>\n",
              "      <th>versicolor</th>\n",
              "      <td>2.77</td>\n",
              "      <td>0.3138</td>\n",
              "    </tr>\n",
              "    <tr>\n",
              "      <th>petal_length</th>\n",
              "      <th>versicolor</th>\n",
              "      <td>4.26</td>\n",
              "      <td>0.4699</td>\n",
              "    </tr>\n",
              "    <tr>\n",
              "      <th>petal_width</th>\n",
              "      <th>versicolor</th>\n",
              "      <td>1.33</td>\n",
              "      <td>0.1978</td>\n",
              "    </tr>\n",
              "    <tr>\n",
              "      <th>sepal_length</th>\n",
              "      <th>virginica</th>\n",
              "      <td>6.59</td>\n",
              "      <td>0.6359</td>\n",
              "    </tr>\n",
              "    <tr>\n",
              "      <th>sepal_width</th>\n",
              "      <th>virginica</th>\n",
              "      <td>2.97</td>\n",
              "      <td>0.3225</td>\n",
              "    </tr>\n",
              "    <tr>\n",
              "      <th>petal_length</th>\n",
              "      <th>virginica</th>\n",
              "      <td>5.55</td>\n",
              "      <td>0.5519</td>\n",
              "    </tr>\n",
              "    <tr>\n",
              "      <th>petal_width</th>\n",
              "      <th>virginica</th>\n",
              "      <td>2.03</td>\n",
              "      <td>0.2747</td>\n",
              "    </tr>\n",
              "  </tbody>\n",
              "</table>\n",
              "</div>"
            ],
            "text/plain": [
              "                         mean     std\n",
              "feature      species                 \n",
              "sepal_length setosa      5.01  0.3525\n",
              "sepal_width  setosa      3.43  0.3791\n",
              "petal_length setosa      1.46  0.1737\n",
              "petal_width  setosa      0.25  0.1054\n",
              "sepal_length versicolor  5.94  0.5162\n",
              "sepal_width  versicolor  2.77  0.3138\n",
              "petal_length versicolor  4.26  0.4699\n",
              "petal_width  versicolor  1.33  0.1978\n",
              "sepal_length virginica   6.59  0.6359\n",
              "sepal_width  virginica   2.97  0.3225\n",
              "petal_length virginica   5.55  0.5519\n",
              "petal_width  virginica   2.03  0.2747"
            ]
          },
          "metadata": {
            "tags": []
          },
          "execution_count": 45
        }
      ]
    },
    {
      "cell_type": "code",
      "metadata": {
        "colab": {
          "base_uri": "https://localhost:8080/",
          "height": 425
        },
        "id": "IqZOaLL3EaGN",
        "outputId": "f55ae4bf-8c87-4aee-81b4-73e2ee79f972"
      },
      "source": [
        "df"
      ],
      "execution_count": null,
      "outputs": [
        {
          "output_type": "execute_result",
          "data": {
            "text/html": [
              "<div>\n",
              "<style scoped>\n",
              "    .dataframe tbody tr th:only-of-type {\n",
              "        vertical-align: middle;\n",
              "    }\n",
              "\n",
              "    .dataframe tbody tr th {\n",
              "        vertical-align: top;\n",
              "    }\n",
              "\n",
              "    .dataframe thead th {\n",
              "        text-align: right;\n",
              "    }\n",
              "</style>\n",
              "<table border=\"1\" class=\"dataframe\">\n",
              "  <thead>\n",
              "    <tr style=\"text-align: right;\">\n",
              "      <th></th>\n",
              "      <th>species</th>\n",
              "      <th>feature</th>\n",
              "      <th>mean</th>\n",
              "      <th>std</th>\n",
              "    </tr>\n",
              "  </thead>\n",
              "  <tbody>\n",
              "    <tr>\n",
              "      <th>0</th>\n",
              "      <td>setosa</td>\n",
              "      <td>sepal_length</td>\n",
              "      <td>5.01</td>\n",
              "      <td>0.3525</td>\n",
              "    </tr>\n",
              "    <tr>\n",
              "      <th>1</th>\n",
              "      <td>setosa</td>\n",
              "      <td>sepal_width</td>\n",
              "      <td>3.43</td>\n",
              "      <td>0.3791</td>\n",
              "    </tr>\n",
              "    <tr>\n",
              "      <th>2</th>\n",
              "      <td>setosa</td>\n",
              "      <td>petal_length</td>\n",
              "      <td>1.46</td>\n",
              "      <td>0.1737</td>\n",
              "    </tr>\n",
              "    <tr>\n",
              "      <th>3</th>\n",
              "      <td>setosa</td>\n",
              "      <td>petal_width</td>\n",
              "      <td>0.25</td>\n",
              "      <td>0.1054</td>\n",
              "    </tr>\n",
              "    <tr>\n",
              "      <th>4</th>\n",
              "      <td>versicolor</td>\n",
              "      <td>sepal_length</td>\n",
              "      <td>5.94</td>\n",
              "      <td>0.5162</td>\n",
              "    </tr>\n",
              "    <tr>\n",
              "      <th>5</th>\n",
              "      <td>versicolor</td>\n",
              "      <td>sepal_width</td>\n",
              "      <td>2.77</td>\n",
              "      <td>0.3138</td>\n",
              "    </tr>\n",
              "    <tr>\n",
              "      <th>6</th>\n",
              "      <td>versicolor</td>\n",
              "      <td>petal_length</td>\n",
              "      <td>4.26</td>\n",
              "      <td>0.4699</td>\n",
              "    </tr>\n",
              "    <tr>\n",
              "      <th>7</th>\n",
              "      <td>versicolor</td>\n",
              "      <td>petal_width</td>\n",
              "      <td>1.33</td>\n",
              "      <td>0.1978</td>\n",
              "    </tr>\n",
              "    <tr>\n",
              "      <th>8</th>\n",
              "      <td>virginica</td>\n",
              "      <td>sepal_length</td>\n",
              "      <td>6.59</td>\n",
              "      <td>0.6359</td>\n",
              "    </tr>\n",
              "    <tr>\n",
              "      <th>9</th>\n",
              "      <td>virginica</td>\n",
              "      <td>sepal_width</td>\n",
              "      <td>2.97</td>\n",
              "      <td>0.3225</td>\n",
              "    </tr>\n",
              "    <tr>\n",
              "      <th>10</th>\n",
              "      <td>virginica</td>\n",
              "      <td>petal_length</td>\n",
              "      <td>5.55</td>\n",
              "      <td>0.5519</td>\n",
              "    </tr>\n",
              "    <tr>\n",
              "      <th>11</th>\n",
              "      <td>virginica</td>\n",
              "      <td>petal_width</td>\n",
              "      <td>2.03</td>\n",
              "      <td>0.2747</td>\n",
              "    </tr>\n",
              "  </tbody>\n",
              "</table>\n",
              "</div>"
            ],
            "text/plain": [
              "       species       feature  mean     std\n",
              "0       setosa  sepal_length  5.01  0.3525\n",
              "1       setosa   sepal_width  3.43  0.3791\n",
              "2       setosa  petal_length  1.46  0.1737\n",
              "3       setosa   petal_width  0.25  0.1054\n",
              "4   versicolor  sepal_length  5.94  0.5162\n",
              "5   versicolor   sepal_width  2.77  0.3138\n",
              "6   versicolor  petal_length  4.26  0.4699\n",
              "7   versicolor   petal_width  1.33  0.1978\n",
              "8    virginica  sepal_length  6.59  0.6359\n",
              "9    virginica   sepal_width  2.97  0.3225\n",
              "10   virginica  petal_length  5.55  0.5519\n",
              "11   virginica   petal_width  2.03  0.2747"
            ]
          },
          "metadata": {
            "tags": []
          },
          "execution_count": 46
        }
      ]
    },
    {
      "cell_type": "code",
      "metadata": {
        "id": "a065lJf2EdCn"
      },
      "source": [
        "df.set_index(['feature','species'], inplace=True)"
      ],
      "execution_count": null,
      "outputs": []
    },
    {
      "cell_type": "code",
      "metadata": {
        "colab": {
          "base_uri": "https://localhost:8080/",
          "height": 455
        },
        "id": "hqitrMxREiGJ",
        "outputId": "3b16fbbc-f5dd-4d79-94a9-664a1f3bc275"
      },
      "source": [
        "df"
      ],
      "execution_count": null,
      "outputs": [
        {
          "output_type": "execute_result",
          "data": {
            "text/html": [
              "<div>\n",
              "<style scoped>\n",
              "    .dataframe tbody tr th:only-of-type {\n",
              "        vertical-align: middle;\n",
              "    }\n",
              "\n",
              "    .dataframe tbody tr th {\n",
              "        vertical-align: top;\n",
              "    }\n",
              "\n",
              "    .dataframe thead th {\n",
              "        text-align: right;\n",
              "    }\n",
              "</style>\n",
              "<table border=\"1\" class=\"dataframe\">\n",
              "  <thead>\n",
              "    <tr style=\"text-align: right;\">\n",
              "      <th></th>\n",
              "      <th></th>\n",
              "      <th>mean</th>\n",
              "      <th>std</th>\n",
              "    </tr>\n",
              "    <tr>\n",
              "      <th>feature</th>\n",
              "      <th>species</th>\n",
              "      <th></th>\n",
              "      <th></th>\n",
              "    </tr>\n",
              "  </thead>\n",
              "  <tbody>\n",
              "    <tr>\n",
              "      <th>sepal_length</th>\n",
              "      <th>setosa</th>\n",
              "      <td>5.01</td>\n",
              "      <td>0.3525</td>\n",
              "    </tr>\n",
              "    <tr>\n",
              "      <th>sepal_width</th>\n",
              "      <th>setosa</th>\n",
              "      <td>3.43</td>\n",
              "      <td>0.3791</td>\n",
              "    </tr>\n",
              "    <tr>\n",
              "      <th>petal_length</th>\n",
              "      <th>setosa</th>\n",
              "      <td>1.46</td>\n",
              "      <td>0.1737</td>\n",
              "    </tr>\n",
              "    <tr>\n",
              "      <th>petal_width</th>\n",
              "      <th>setosa</th>\n",
              "      <td>0.25</td>\n",
              "      <td>0.1054</td>\n",
              "    </tr>\n",
              "    <tr>\n",
              "      <th>sepal_length</th>\n",
              "      <th>versicolor</th>\n",
              "      <td>5.94</td>\n",
              "      <td>0.5162</td>\n",
              "    </tr>\n",
              "    <tr>\n",
              "      <th>sepal_width</th>\n",
              "      <th>versicolor</th>\n",
              "      <td>2.77</td>\n",
              "      <td>0.3138</td>\n",
              "    </tr>\n",
              "    <tr>\n",
              "      <th>petal_length</th>\n",
              "      <th>versicolor</th>\n",
              "      <td>4.26</td>\n",
              "      <td>0.4699</td>\n",
              "    </tr>\n",
              "    <tr>\n",
              "      <th>petal_width</th>\n",
              "      <th>versicolor</th>\n",
              "      <td>1.33</td>\n",
              "      <td>0.1978</td>\n",
              "    </tr>\n",
              "    <tr>\n",
              "      <th>sepal_length</th>\n",
              "      <th>virginica</th>\n",
              "      <td>6.59</td>\n",
              "      <td>0.6359</td>\n",
              "    </tr>\n",
              "    <tr>\n",
              "      <th>sepal_width</th>\n",
              "      <th>virginica</th>\n",
              "      <td>2.97</td>\n",
              "      <td>0.3225</td>\n",
              "    </tr>\n",
              "    <tr>\n",
              "      <th>petal_length</th>\n",
              "      <th>virginica</th>\n",
              "      <td>5.55</td>\n",
              "      <td>0.5519</td>\n",
              "    </tr>\n",
              "    <tr>\n",
              "      <th>petal_width</th>\n",
              "      <th>virginica</th>\n",
              "      <td>2.03</td>\n",
              "      <td>0.2747</td>\n",
              "    </tr>\n",
              "  </tbody>\n",
              "</table>\n",
              "</div>"
            ],
            "text/plain": [
              "                         mean     std\n",
              "feature      species                 \n",
              "sepal_length setosa      5.01  0.3525\n",
              "sepal_width  setosa      3.43  0.3791\n",
              "petal_length setosa      1.46  0.1737\n",
              "petal_width  setosa      0.25  0.1054\n",
              "sepal_length versicolor  5.94  0.5162\n",
              "sepal_width  versicolor  2.77  0.3138\n",
              "petal_length versicolor  4.26  0.4699\n",
              "petal_width  versicolor  1.33  0.1978\n",
              "sepal_length virginica   6.59  0.6359\n",
              "sepal_width  virginica   2.97  0.3225\n",
              "petal_length virginica   5.55  0.5519\n",
              "petal_width  virginica   2.03  0.2747"
            ]
          },
          "metadata": {
            "tags": []
          },
          "execution_count": 49
        }
      ]
    },
    {
      "cell_type": "markdown",
      "metadata": {
        "id": "gEtXcPYLXMWX"
      },
      "source": [
        "## 연습문제 4.4.7\n",
        "타이타닉호 승객을 ‘미성년자’, ‘청년’, ‘중년’, ‘장년’, ‘노년’ 나이 그룹으로 나눈다.\n",
        "\n",
        "bins = [1, 20, 30, 50, 70, 100]\n",
        "\n",
        "labels = [\"미성년자\", \"청년\", \"중년\", \"장년\", \"노년\"]\n",
        "\n",
        "그리고 각 나이 그룹의 승객 비율을 구한다. 비율의 전체 합은 1이 되어야 한다."
      ]
    },
    {
      "cell_type": "code",
      "metadata": {
        "id": "cKuq7a3qXIp1"
      },
      "source": [
        ""
      ],
      "execution_count": null,
      "outputs": []
    },
    {
      "cell_type": "markdown",
      "metadata": {
        "id": "LKuArHP8XNKp"
      },
      "source": [
        "## 연습문제 4.4.8\n",
        "타이타닉호의 승객에 대해 나이와 성별에 의한 카테고리 열인 category3 열을 만들어라. category3 카테고리는 다음과 같이 정의된다.\n",
        "\n",
        "1. 20살 미만이면 성별에 관계없이 “미성년자”라고 한다.\n",
        "\n",
        "2. 20살 이상이면 나이에 따라 “청년”, “중년”, “장년”, “노년”을 구분하고 그 뒤에 성별을 나타내는 “남성”, “여성”을 붙인다."
      ]
    },
    {
      "cell_type": "code",
      "metadata": {
        "id": "fLwszwmaXNhi"
      },
      "source": [
        ""
      ],
      "execution_count": null,
      "outputs": []
    }
  ]
}