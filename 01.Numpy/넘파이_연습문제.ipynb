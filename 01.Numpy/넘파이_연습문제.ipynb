{
  "nbformat": 4,
  "nbformat_minor": 0,
  "metadata": {
    "colab": {
      "name": "넘파이 연습문제.ipynb",
      "provenance": [],
      "collapsed_sections": []
    },
    "kernelspec": {
      "name": "python3",
      "display_name": "Python 3"
    },
    "language_info": {
      "name": "python"
    }
  },
  "cells": [
    {
      "cell_type": "code",
      "metadata": {
        "colab": {
          "base_uri": "https://localhost:8080/"
        },
        "id": "8H6EfaasUBuA",
        "outputId": "114b3a44-2cd5-4e8a-81a6-b6a01f427b46"
      },
      "source": [
        "8 & 1"
      ],
      "execution_count": null,
      "outputs": [
        {
          "output_type": "execute_result",
          "data": {
            "text/plain": [
              "0"
            ]
          },
          "metadata": {
            "tags": []
          },
          "execution_count": 2
        }
      ]
    },
    {
      "cell_type": "markdown",
      "metadata": {
        "id": "GdbgwJn-l3NU"
      },
      "source": [
        "### 1. 행렬 만들기"
      ]
    },
    {
      "cell_type": "markdown",
      "metadata": {
        "id": "mCHUYc18eDEc"
      },
      "source": [
        "###1. 넘파이를 사용하여 다음과 같은 행렬을 만드시오\n",
        "###10 20 30 40\n",
        "###50 60 70 80"
      ]
    },
    {
      "cell_type": "code",
      "metadata": {
        "id": "CDf_eu42Zbxm"
      },
      "source": [
        "import numpy as np"
      ],
      "execution_count": 2,
      "outputs": []
    },
    {
      "cell_type": "code",
      "metadata": {
        "colab": {
          "base_uri": "https://localhost:8080/"
        },
        "id": "jW-Lm6qVeRP-",
        "outputId": "128157db-b747-444e-eeb2-8105a1b46d2b"
      },
      "source": [
        "np.array([10,20,30,40,50,60,70,80]).reshape(2,4)"
      ],
      "execution_count": null,
      "outputs": [
        {
          "output_type": "execute_result",
          "data": {
            "text/plain": [
              "array([[10, 20, 30, 40],\n",
              "       [50, 60, 70, 80]])"
            ]
          },
          "metadata": {
            "tags": []
          },
          "execution_count": 4
        }
      ]
    },
    {
      "cell_type": "code",
      "metadata": {
        "colab": {
          "base_uri": "https://localhost:8080/"
        },
        "id": "Z3k9IePklP-s",
        "outputId": "0c70a394-ff08-4ff4-85bd-95ada230e487"
      },
      "source": [
        "np.arange(1,9).reshape(2,4) * 10"
      ],
      "execution_count": null,
      "outputs": [
        {
          "output_type": "execute_result",
          "data": {
            "text/plain": [
              "array([[10, 20, 30, 40],\n",
              "       [50, 60, 70, 80]])"
            ]
          },
          "metadata": {
            "tags": []
          },
          "execution_count": 33
        }
      ]
    },
    {
      "cell_type": "markdown",
      "metadata": {
        "id": "vdsr3AtRl0It"
      },
      "source": [
        "###  2. 인덱싱, 슬라이싱"
      ]
    },
    {
      "cell_type": "markdown",
      "metadata": {
        "id": "nsASsRskensT"
      },
      "source": [
        "###다음 행렬과 같은 행렬이 있다\n",
        "###m =\n",
        "###np.array ([[ 0, 1, 2, 3,4]\n",
        "###           [ 5, 6, 7, 8, 9],\n",
        "###          [10, 11, 12, 13, 14]])\n",
        "1)\n",
        "이 행렬에서 값 7 을 인덱싱한다\n",
        "2)\n",
        "이 행렬에서 값 14 을 인덱싱한다\n",
        "3)\n",
        "이 행렬에서 배열 [6, 7] 을 슬라이싱한다\n",
        "4)\n",
        "이 행렬에서 배열 [7, 12] 을 슬라이싱한다\n",
        "5)\n",
        "이 행렬에서 배열 [[3, 4], [8, 9]] 을 슬라이싱한다"
      ]
    },
    {
      "cell_type": "code",
      "metadata": {
        "colab": {
          "base_uri": "https://localhost:8080/"
        },
        "id": "UOYU6mhHeeJ3",
        "outputId": "fa7b860d-d4d8-436b-d338-8b6bb7505771"
      },
      "source": [
        "a = np.arange(15).reshape(3,5)\n",
        "a"
      ],
      "execution_count": null,
      "outputs": [
        {
          "output_type": "execute_result",
          "data": {
            "text/plain": [
              "array([[ 0,  1,  2,  3,  4],\n",
              "       [ 5,  6,  7,  8,  9],\n",
              "       [10, 11, 12, 13, 14]])"
            ]
          },
          "metadata": {
            "tags": []
          },
          "execution_count": 7
        }
      ]
    },
    {
      "cell_type": "code",
      "metadata": {
        "colab": {
          "base_uri": "https://localhost:8080/"
        },
        "id": "GRXxU6bGfKiP",
        "outputId": "9829c506-f5fb-41af-b2b1-142cc3906f7b"
      },
      "source": [
        "a[1][2]"
      ],
      "execution_count": null,
      "outputs": [
        {
          "output_type": "execute_result",
          "data": {
            "text/plain": [
              "7"
            ]
          },
          "metadata": {
            "tags": []
          },
          "execution_count": 8
        }
      ]
    },
    {
      "cell_type": "code",
      "metadata": {
        "colab": {
          "base_uri": "https://localhost:8080/"
        },
        "id": "Hhr4nW2Vfa4J",
        "outputId": "75c6e90d-ccd6-4a84-9745-8cfd6af0c1d9"
      },
      "source": [
        "a[2][4]"
      ],
      "execution_count": null,
      "outputs": [
        {
          "output_type": "execute_result",
          "data": {
            "text/plain": [
              "14"
            ]
          },
          "metadata": {
            "tags": []
          },
          "execution_count": 9
        }
      ]
    },
    {
      "cell_type": "code",
      "metadata": {
        "colab": {
          "base_uri": "https://localhost:8080/"
        },
        "id": "2SdL9NBIfflw",
        "outputId": "f69516fb-cfbf-413f-9ff6-9192d29d0164"
      },
      "source": [
        "a[1][1:3]"
      ],
      "execution_count": null,
      "outputs": [
        {
          "output_type": "execute_result",
          "data": {
            "text/plain": [
              "array([6, 7])"
            ]
          },
          "metadata": {
            "tags": []
          },
          "execution_count": 12
        }
      ]
    },
    {
      "cell_type": "code",
      "metadata": {
        "colab": {
          "base_uri": "https://localhost:8080/"
        },
        "id": "MvTQVTv6hDlx",
        "outputId": "9d5ea697-52a1-4531-9659-e05c6260ebdd"
      },
      "source": [
        "a[1,1:3]"
      ],
      "execution_count": null,
      "outputs": [
        {
          "output_type": "execute_result",
          "data": {
            "text/plain": [
              "array([6, 7])"
            ]
          },
          "metadata": {
            "tags": []
          },
          "execution_count": 16
        }
      ]
    },
    {
      "cell_type": "code",
      "metadata": {
        "colab": {
          "base_uri": "https://localhost:8080/"
        },
        "id": "5Nzuw5LEfoQ5",
        "outputId": "913bec18-be9b-49b9-e515-46af5a4361c5"
      },
      "source": [
        "a[1:,2]\n"
      ],
      "execution_count": null,
      "outputs": [
        {
          "output_type": "execute_result",
          "data": {
            "text/plain": [
              "array([ 7, 12])"
            ]
          },
          "metadata": {
            "tags": []
          },
          "execution_count": 31
        }
      ]
    },
    {
      "cell_type": "code",
      "metadata": {
        "colab": {
          "base_uri": "https://localhost:8080/"
        },
        "id": "Agb3r12zhhDM",
        "outputId": "98765606-e291-4cdd-a337-815beb4b22d5"
      },
      "source": [
        "a[:2, 3:]"
      ],
      "execution_count": null,
      "outputs": [
        {
          "output_type": "execute_result",
          "data": {
            "text/plain": [
              "array([[3, 4],\n",
              "       [8, 9]])"
            ]
          },
          "metadata": {
            "tags": []
          },
          "execution_count": 34
        }
      ]
    },
    {
      "cell_type": "markdown",
      "metadata": {
        "id": "LmEFGOl5mMxa"
      },
      "source": [
        "### Boolean indexing"
      ]
    },
    {
      "cell_type": "code",
      "metadata": {
        "id": "DFLczP-3mDan"
      },
      "source": [
        "f = a.flatten()"
      ],
      "execution_count": null,
      "outputs": []
    },
    {
      "cell_type": "code",
      "metadata": {
        "colab": {
          "base_uri": "https://localhost:8080/"
        },
        "id": "hX9ZS-AqmVB0",
        "outputId": "07345340-6946-47b0-c64f-14f7d38dbd30"
      },
      "source": [
        "f[f % 3 == 0]"
      ],
      "execution_count": null,
      "outputs": [
        {
          "output_type": "execute_result",
          "data": {
            "text/plain": [
              "array([ 0,  3,  6,  9, 12])"
            ]
          },
          "metadata": {
            "tags": []
          },
          "execution_count": 36
        }
      ]
    },
    {
      "cell_type": "code",
      "metadata": {
        "colab": {
          "base_uri": "https://localhost:8080/"
        },
        "id": "pTqMyJTymYy7",
        "outputId": "71f056bd-729b-4734-c2a4-f38dc3679e1b"
      },
      "source": [
        "f[f % 4 == 1]"
      ],
      "execution_count": null,
      "outputs": [
        {
          "output_type": "execute_result",
          "data": {
            "text/plain": [
              "array([ 1,  5,  9, 13])"
            ]
          },
          "metadata": {
            "tags": []
          },
          "execution_count": 37
        }
      ]
    },
    {
      "cell_type": "code",
      "metadata": {
        "colab": {
          "base_uri": "https://localhost:8080/"
        },
        "id": "Y-x6ALC_miP9",
        "outputId": "364e3043-2022-45db-919b-2e9bdd089ad2"
      },
      "source": [
        "f[np.logical_and(f%3==0, f%4==1)]"
      ],
      "execution_count": null,
      "outputs": [
        {
          "output_type": "execute_result",
          "data": {
            "text/plain": [
              "array([9])"
            ]
          },
          "metadata": {
            "tags": []
          },
          "execution_count": 38
        }
      ]
    },
    {
      "cell_type": "markdown",
      "metadata": {
        "id": "VhZvpYVVmrPl"
      },
      "source": [
        "### 4. eye로 행렬 만들기"
      ]
    },
    {
      "cell_type": "code",
      "metadata": {
        "colab": {
          "base_uri": "https://localhost:8080/"
        },
        "id": "_8i3Xv2Ump3A",
        "outputId": "fa1fc8a1-4a3d-456c-965d-92e3fd0fd48e"
      },
      "source": [
        "np.eye(5,5,k=-1)*3 + np.eye(5,5)*2 + np.eye(5,5,k=1)"
      ],
      "execution_count": null,
      "outputs": [
        {
          "output_type": "execute_result",
          "data": {
            "text/plain": [
              "array([[2., 1., 0., 0., 0.],\n",
              "       [3., 2., 1., 0., 0.],\n",
              "       [0., 3., 2., 1., 0.],\n",
              "       [0., 0., 3., 2., 1.],\n",
              "       [0., 0., 0., 3., 2.]])"
            ]
          },
          "metadata": {
            "tags": []
          },
          "execution_count": 39
        }
      ]
    },
    {
      "cell_type": "markdown",
      "metadata": {
        "id": "GKV67XSEnD0F"
      },
      "source": [
        "### Matrix operation"
      ]
    },
    {
      "cell_type": "code",
      "metadata": {
        "colab": {
          "base_uri": "https://localhost:8080/"
        },
        "id": "W9HMyO-FnAlk",
        "outputId": "b2108ed5-0ff6-4283-a051-ed00f62261c4"
      },
      "source": [
        "np.random.seed(2021)\n",
        "m = np.random.uniform(0,10,30).reshape(5,6).round(4)\n",
        "m"
      ],
      "execution_count": null,
      "outputs": [
        {
          "output_type": "execute_result",
          "data": {
            "text/plain": [
              "array([[6.0598, 7.3337, 1.3895, 3.1267, 9.9724, 1.2816],\n",
              "       [1.7899, 7.5293, 6.6216, 7.8431, 0.9689, 0.5857],\n",
              "       [9.624 , 6.1656, 0.8663, 5.6127, 6.1652, 9.6384],\n",
              "       [5.743 , 3.7116, 4.5215, 2.0185, 5.6931, 1.951 ],\n",
              "       [5.837 , 4.7631, 5.1781, 8.231 , 7.3223, 0.6906]])"
            ]
          },
          "metadata": {
            "tags": []
          },
          "execution_count": 42
        }
      ]
    },
    {
      "cell_type": "code",
      "metadata": {
        "colab": {
          "base_uri": "https://localhost:8080/"
        },
        "id": "hmmupblsnXkN",
        "outputId": "9c45f77b-3148-4249-b9b2-c40f97cf88c5"
      },
      "source": [
        "np.max(m)"
      ],
      "execution_count": null,
      "outputs": [
        {
          "output_type": "execute_result",
          "data": {
            "text/plain": [
              "9.9724"
            ]
          },
          "metadata": {
            "tags": []
          },
          "execution_count": 43
        }
      ]
    },
    {
      "cell_type": "code",
      "metadata": {
        "colab": {
          "base_uri": "https://localhost:8080/"
        },
        "id": "97s_RIzanlrz",
        "outputId": "8151141f-9cd1-4ea6-8ed3-15ec8a4bdcf6"
      },
      "source": [
        "np.sum(m, axis =1)"
      ],
      "execution_count": null,
      "outputs": [
        {
          "output_type": "execute_result",
          "data": {
            "text/plain": [
              "array([29.1637, 25.3385, 38.0722, 23.6387, 32.0221])"
            ]
          },
          "metadata": {
            "tags": []
          },
          "execution_count": 44
        }
      ]
    },
    {
      "cell_type": "code",
      "metadata": {
        "colab": {
          "base_uri": "https://localhost:8080/"
        },
        "id": "GqRX9ddynr_a",
        "outputId": "3d3e3ebe-4998-4486-f8d4-f57ed960d144"
      },
      "source": [
        "np.max(m, axis=1)"
      ],
      "execution_count": null,
      "outputs": [
        {
          "output_type": "execute_result",
          "data": {
            "text/plain": [
              "array([9.9724, 7.8431, 9.6384, 5.743 , 8.231 ])"
            ]
          },
          "metadata": {
            "tags": []
          },
          "execution_count": 45
        }
      ]
    },
    {
      "cell_type": "code",
      "metadata": {
        "colab": {
          "base_uri": "https://localhost:8080/"
        },
        "id": "y755Fkc9n0GT",
        "outputId": "72d7c74f-ad06-4eb2-d687-d101b7e97ca4"
      },
      "source": [
        "np.mean(m, axis=0)"
      ],
      "execution_count": null,
      "outputs": [
        {
          "output_type": "execute_result",
          "data": {
            "text/plain": [
              "array([5.81074, 5.90066, 3.7154 , 5.3664 , 6.02438, 2.82946])"
            ]
          },
          "metadata": {
            "tags": []
          },
          "execution_count": 46
        }
      ]
    },
    {
      "cell_type": "code",
      "metadata": {
        "colab": {
          "base_uri": "https://localhost:8080/"
        },
        "id": "D1xx00HTn8Ya",
        "outputId": "c4f8b5ea-a1b8-4a6f-e10b-f464e688ef68"
      },
      "source": [
        "np.min(m, axis=0)"
      ],
      "execution_count": null,
      "outputs": [
        {
          "output_type": "execute_result",
          "data": {
            "text/plain": [
              "array([1.7899, 3.7116, 0.8663, 2.0185, 0.9689, 0.5857])"
            ]
          },
          "metadata": {
            "tags": []
          },
          "execution_count": 48
        }
      ]
    },
    {
      "cell_type": "markdown",
      "metadata": {
        "id": "WeVEJC6SoE_q"
      },
      "source": [
        "### 6. Sorting"
      ]
    },
    {
      "cell_type": "code",
      "metadata": {
        "colab": {
          "base_uri": "https://localhost:8080/"
        },
        "id": "_nbek-HMn-iz",
        "outputId": "f5281573-9e6a-4c53-a56b-9f3efbf05b10"
      },
      "source": [
        "score = np.array([[1,2,3,4], [46,99,100,71], [81,59,90,100]])\n",
        "score"
      ],
      "execution_count": 13,
      "outputs": [
        {
          "output_type": "execute_result",
          "data": {
            "text/plain": [
              "array([[  1,   2,   3,   4],\n",
              "       [ 46,  99, 100,  71],\n",
              "       [ 81,  59,  90, 100]])"
            ]
          },
          "metadata": {
            "tags": []
          },
          "execution_count": 13
        }
      ]
    },
    {
      "cell_type": "code",
      "metadata": {
        "colab": {
          "base_uri": "https://localhost:8080/"
        },
        "id": "JjSHlk_loahi",
        "outputId": "4818fb66-951c-4ada-db7e-71925a75ede3"
      },
      "source": [
        "np.sort(score)"
      ],
      "execution_count": 14,
      "outputs": [
        {
          "output_type": "execute_result",
          "data": {
            "text/plain": [
              "array([[  1,   2,   3,   4],\n",
              "       [ 46,  71,  99, 100],\n",
              "       [ 59,  81,  90, 100]])"
            ]
          },
          "metadata": {
            "tags": []
          },
          "execution_count": 14
        }
      ]
    },
    {
      "cell_type": "code",
      "metadata": {
        "colab": {
          "base_uri": "https://localhost:8080/"
        },
        "id": "S6RD1oF9oe3a",
        "outputId": "63e98fe5-2ac1-4f99-f586-62596de08d2a"
      },
      "source": [
        "# 2행을 정렬 :  46 71 99 100, array[인덱스값]\n",
        "s = np.argsort(score[1])\n",
        "s"
      ],
      "execution_count": 15,
      "outputs": [
        {
          "output_type": "execute_result",
          "data": {
            "text/plain": [
              "array([0, 3, 1, 2])"
            ]
          },
          "metadata": {
            "tags": []
          },
          "execution_count": 15
        }
      ]
    },
    {
      "cell_type": "code",
      "metadata": {
        "colab": {
          "base_uri": "https://localhost:8080/"
        },
        "id": "lea-8Jzgo2Yy",
        "outputId": "7d08c336-7c75-4a19-c326-edc57e1777fd"
      },
      "source": [
        "# 내림차순\n",
        "score[:, s[::-1]]"
      ],
      "execution_count": 19,
      "outputs": [
        {
          "output_type": "execute_result",
          "data": {
            "text/plain": [
              "array([[  3,   2,   4,   1],\n",
              "       [100,  99,  71,  46],\n",
              "       [ 90,  59, 100,  81]])"
            ]
          },
          "metadata": {
            "tags": []
          },
          "execution_count": 19
        }
      ]
    },
    {
      "cell_type": "code",
      "metadata": {
        "colab": {
          "base_uri": "https://localhost:8080/"
        },
        "id": "s_Ez_thho-m7",
        "outputId": "7b3f57b2-d0e8-411a-efeb-3769f4cb3238"
      },
      "source": [
        "score[:, s[::-1]]"
      ],
      "execution_count": null,
      "outputs": [
        {
          "output_type": "execute_result",
          "data": {
            "text/plain": [
              "array([[  3,   2,   4,   1],\n",
              "       [100,  99,  71,  46],\n",
              "       [ 90,  59, 100,  81]])"
            ]
          },
          "metadata": {
            "tags": []
          },
          "execution_count": 53
        }
      ]
    },
    {
      "cell_type": "code",
      "metadata": {
        "colab": {
          "base_uri": "https://localhost:8080/"
        },
        "id": "pSQ4nJdtpGfT",
        "outputId": "28a85a62-4bfc-4c24-b1bb-4df42eb9a2ea"
      },
      "source": [
        "# 한 줄로\n",
        "score[:, np.argsort(score[1])[::-1]]"
      ],
      "execution_count": null,
      "outputs": [
        {
          "output_type": "execute_result",
          "data": {
            "text/plain": [
              "array([[  3,   2,   4,   1],\n",
              "       [100,  99,  71,  46],\n",
              "       [ 90,  59, 100,  81]])"
            ]
          },
          "metadata": {
            "tags": []
          },
          "execution_count": 54
        }
      ]
    },
    {
      "cell_type": "markdown",
      "metadata": {
        "id": "c63k5FX3pV3d"
      },
      "source": [
        "### 7. 주사위 100번"
      ]
    },
    {
      "cell_type": "code",
      "metadata": {
        "colab": {
          "base_uri": "https://localhost:8080/"
        },
        "id": "ankt-r_apUmK",
        "outputId": "e75ba699-518e-4d9c-9cf8-4a38c335f7a0"
      },
      "source": [
        "np.random.seed(2021)\n",
        "dice = np.random.randint(1,7,100)\n",
        "dice"
      ],
      "execution_count": null,
      "outputs": [
        {
          "output_type": "execute_result",
          "data": {
            "text/plain": [
              "array([5, 6, 2, 1, 6, 5, 4, 6, 6, 6, 1, 5, 2, 6, 2, 2, 5, 6, 3, 3, 1, 4,\n",
              "       2, 1, 3, 4, 5, 6, 1, 6, 2, 3, 6, 2, 6, 2, 3, 3, 5, 6, 3, 4, 2, 3,\n",
              "       3, 1, 3, 5, 6, 4, 4, 2, 2, 2, 3, 6, 4, 4, 5, 4, 2, 5, 2, 2, 5, 4,\n",
              "       6, 4, 4, 4, 3, 2, 4, 3, 6, 3, 3, 1, 5, 4, 2, 4, 2, 5, 3, 4, 2, 3,\n",
              "       6, 3, 6, 3, 4, 5, 6, 2, 2, 6, 1, 6])"
            ]
          },
          "metadata": {
            "tags": []
          },
          "execution_count": 55
        }
      ]
    },
    {
      "cell_type": "markdown",
      "metadata": {
        "id": "VX6ylVU3ppta"
      },
      "source": [
        "### 8.가격이 10,000 원인 주식이 있다 . 이 주식의 일간 수익률 은 기댓값이 0% 이고 표준편차가 1%인 표준 정규 분포를 따른다고 하자 . 250 일 동안의 주가를 무작위로 생성하시오"
      ]
    },
    {
      "cell_type": "code",
      "metadata": {
        "colab": {
          "base_uri": "https://localhost:8080/"
        },
        "id": "UKjGAUurpiGm",
        "outputId": "74e131fd-ed92-4f20-ac1d-b22ae9cfb4f6"
      },
      "source": [
        "np.mean(dice)"
      ],
      "execution_count": null,
      "outputs": [
        {
          "output_type": "execute_result",
          "data": {
            "text/plain": [
              "3.7"
            ]
          },
          "metadata": {
            "tags": []
          },
          "execution_count": 56
        }
      ]
    },
    {
      "cell_type": "code",
      "metadata": {
        "colab": {
          "base_uri": "https://localhost:8080/"
        },
        "id": "bfS2c2uQp4BX",
        "outputId": "4e0eef90-09b9-45e8-d411-3667b80b1cb8"
      },
      "source": [
        "np.unique(dice)"
      ],
      "execution_count": null,
      "outputs": [
        {
          "output_type": "execute_result",
          "data": {
            "text/plain": [
              "array([1, 2, 3, 4, 5, 6])"
            ]
          },
          "metadata": {
            "tags": []
          },
          "execution_count": 57
        }
      ]
    },
    {
      "cell_type": "code",
      "metadata": {
        "id": "XrYSlpywp6g4",
        "colab": {
          "base_uri": "https://localhost:8080/"
        },
        "outputId": "98f4b0ff-12a9-4b51-bbf0-1bf1d84ffe5f"
      },
      "source": [
        "np.random.seed(2021)\n",
        "price = 10000\n",
        "rate = np.random.normal(0,0.1,10)\n",
        "for i in range(10):\n",
        "  price = price + np.round(price * rate[i])\n",
        "  print(int(price), end=',')"
      ],
      "execution_count": 10,
      "outputs": [
        {
          "output_type": "stream",
          "text": [
            "11489,12266,11753,10805,11406,10601,11800,12561,12695,13231,"
          ],
          "name": "stdout"
        }
      ]
    },
    {
      "cell_type": "code",
      "metadata": {
        "id": "MGqy4mJfiUEs"
      },
      "source": [
        "# 250개\n",
        "np.random.seed(2021)\n",
        "price_list = []\n",
        "rate = np.random.normal(0,0.1,250)\n",
        "price = 10000\n",
        "for i in range(250):\n",
        "  price += np.round(price * rate[i])\n",
        "  price_list.append(int(price))"
      ],
      "execution_count": 11,
      "outputs": []
    },
    {
      "cell_type": "code",
      "metadata": {
        "colab": {
          "base_uri": "https://localhost:8080/"
        },
        "id": "_FPV_HM5kP6y",
        "outputId": "dc26bc3c-df48-4c8e-a0a2-0b235500b9be"
      },
      "source": [
        "price_list[:10]"
      ],
      "execution_count": 12,
      "outputs": [
        {
          "output_type": "execute_result",
          "data": {
            "text/plain": [
              "[11489, 12266, 11753, 10805, 11406, 10601, 11800, 12561, 12695, 13231]"
            ]
          },
          "metadata": {
            "tags": []
          },
          "execution_count": 12
        }
      ]
    },
    {
      "cell_type": "code",
      "metadata": {
        "id": "RAqaOxBwkUMx"
      },
      "source": [
        ""
      ],
      "execution_count": null,
      "outputs": []
    }
  ]
}